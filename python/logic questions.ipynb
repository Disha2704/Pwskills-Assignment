{
 "cells": [
  {
   "attachments": {},
   "cell_type": "markdown",
   "metadata": {},
   "source": [
    "Q1. Write a program that prints the first 10 even numbers using a for loop.\n"
   ]
  },
  {
   "cell_type": "code",
   "execution_count": 21,
   "metadata": {},
   "outputs": [
    {
     "name": "stdout",
     "output_type": "stream",
     "text": [
      "0 2 4 6 8 10 "
     ]
    }
   ],
   "source": [
    "for i in range(11):\n",
    "    if i%2==0:\n",
    "        print(i,end=\" \")"
   ]
  },
  {
   "attachments": {},
   "cell_type": "markdown",
   "metadata": {},
   "source": [
    "Q2. Write a program that takes a list of strings and prints out each string in reverse order using a for loop.\n"
   ]
  },
  {
   "cell_type": "code",
   "execution_count": 29,
   "metadata": {},
   "outputs": [
    {
     "name": "stdout",
     "output_type": "stream",
     "text": [
      " olleh  dlrow \n"
     ]
    }
   ],
   "source": [
    "def reverse_string(text):\n",
    "\n",
    "    text_list=[]\n",
    "    new_text=\" \"\n",
    "    for i in text:\n",
    "        if i!=\" \":\n",
    "            new_text+=i\n",
    "        else:\n",
    "            i=len(new_text)-1\n",
    "            reversed=\" \"\n",
    "            while i>=0:\n",
    "                reversed+=new_text[i]\n",
    "                i=i-1\n",
    "            text_list.append(reversed)\n",
    "\n",
    "            new_text=\" \"\n",
    "\n",
    "    if text_list:\n",
    "        i=len(new_text)-1\n",
    "        reversed=\" \"\n",
    "        while i>=0:\n",
    "            reversed+=new_text[i]\n",
    "            i=i-1\n",
    "        text_list.append(reversed)\n",
    "\n",
    "\n",
    "    final_reverse_string=\"\"\n",
    "    for item in text_list:\n",
    "        final_reverse_string+=item\n",
    "\n",
    "    print(final_reverse_string) \n",
    "\n",
    "reverse_string(\"hello world\")\n"
   ]
  },
  {
   "attachments": {},
   "cell_type": "markdown",
   "metadata": {},
   "source": [
    "Q3. Write a program that prints the multiplication table of a given number using a for loop.\n"
   ]
  },
  {
   "cell_type": "code",
   "execution_count": 33,
   "metadata": {},
   "outputs": [
    {
     "name": "stdout",
     "output_type": "stream",
     "text": [
      "99 * 1 = 99\n",
      "99 * 2 = 198\n",
      "99 * 3 = 297\n",
      "99 * 4 = 396\n",
      "99 * 5 = 495\n",
      "99 * 6 = 594\n",
      "99 * 7 = 693\n",
      "99 * 8 = 792\n",
      "99 * 9 = 891\n",
      "99 * 10 = 990\n"
     ]
    }
   ],
   "source": [
    "def multiplication_table(number):\n",
    "    for i in range(1,11):\n",
    "        print(\"{} * {} = {}\".format(number,i,number*i))\n",
    "\n",
    "multiplication_table(99)"
   ]
  },
  {
   "attachments": {},
   "cell_type": "markdown",
   "metadata": {},
   "source": [
    "\n",
    "Q4. Write a program that takes a list of integers as input and returns the sum of all the numbers in the list\n",
    "using a for loop.\n"
   ]
  },
  {
   "cell_type": "code",
   "execution_count": 59,
   "metadata": {},
   "outputs": [
    {
     "data": {
      "text/plain": [
       "15"
      ]
     },
     "execution_count": 59,
     "metadata": {},
     "output_type": "execute_result"
    }
   ],
   "source": [
    "def sum_list(lst):\n",
    "    sum=0\n",
    "    for element in lst:\n",
    "        if type(element)==int:\n",
    "            sum+=element\n",
    "\n",
    "    return sum\n",
    "\n",
    "sum_list([1,2,3,4,5,\"d\"])\n"
   ]
  },
  {
   "attachments": {},
   "cell_type": "markdown",
   "metadata": {},
   "source": [
    "\n",
    "Q5. Write a program that prompts the user for a positive integer and then prints out all the prime\n",
    "numbers up to that number using a for loop.\n"
   ]
  },
  {
   "cell_type": "code",
   "execution_count": 41,
   "metadata": {},
   "outputs": [
    {
     "name": "stdout",
     "output_type": "stream",
     "text": [
      "1 2 3 5 7 11 13 17 19 23 "
     ]
    }
   ],
   "source": [
    "def prime_number(number):\n",
    "    for num in range(number+1):\n",
    "        is_prime = True\n",
    "        for i in range(2,number+1):\n",
    "            if num % i == 0 and num!=i:\n",
    "                is_prime = False\n",
    "                break\n",
    "        if is_prime:\n",
    "            print(num,end=\" \")\n",
    "\n",
    "prime_number(23)\n",
    "\n"
   ]
  },
  {
   "attachments": {},
   "cell_type": "markdown",
   "metadata": {},
   "source": [
    "Q6. Write a program that prompts the user to enter a password until the correct password is entered\n",
    "using a while loop.\n"
   ]
  },
  {
   "cell_type": "code",
   "execution_count": 42,
   "metadata": {},
   "outputs": [
    {
     "name": "stdout",
     "output_type": "stream",
     "text": [
      "Correct password entered. Access granted.\n"
     ]
    }
   ],
   "source": [
    "correct_password = \"password123\"\n",
    "\n",
    "# Prompt the user for a password until the correct password is entered\n",
    "while True:\n",
    "    password = input(\"Enter the password: \")\n",
    "    if password == correct_password:\n",
    "        print(\"Correct password entered. Access granted.\")\n",
    "        break\n",
    "    else:\n",
    "        print(\"Incorrect password. Try again.\")"
   ]
  },
  {
   "attachments": {},
   "cell_type": "markdown",
   "metadata": {},
   "source": [
    "\n",
    "Q7. Write a program that takes a list of strings and prints out each string in reverse order using a while\n",
    "loop.\n"
   ]
  },
  {
   "cell_type": "code",
   "execution_count": 45,
   "metadata": {},
   "outputs": [
    {
     "name": "stdout",
     "output_type": "stream",
     "text": [
      "inaved ahsid"
     ]
    }
   ],
   "source": [
    "def string_reverse(string):\n",
    "    i=len(string)-1\n",
    "\n",
    "    while i>=0:\n",
    "        print(string[i],end=\"\")\n",
    "        i=i-1\n",
    "\n",
    "string_reverse(\"disha devani\")\n"
   ]
  },
  {
   "attachments": {},
   "cell_type": "markdown",
   "metadata": {},
   "source": [
    "\n",
    "Q8. Write a program that prompts the user to enter a positive integer and then prints out all the Fibonacci\n",
    "numbers up to that number using a while loop.\n"
   ]
  },
  {
   "cell_type": "code",
   "execution_count": 58,
   "metadata": {},
   "outputs": [
    {
     "name": "stdout",
     "output_type": "stream",
     "text": [
      "0 1 1 2 3 5 8 "
     ]
    }
   ],
   "source": [
    "def fibonnaci(number):\n",
    "    a=0\n",
    "    b=1\n",
    "    print(a,b,end=\" \")\n",
    "    i=0\n",
    "    while i<number-2:\n",
    "        c=a+b\n",
    "        print(c,end=\" \")\n",
    "        a,b=b,c\n",
    "        \n",
    "        i=i+1\n",
    "fibonnaci(7)"
   ]
  },
  {
   "attachments": {},
   "cell_type": "markdown",
   "metadata": {},
   "source": [
    "\n",
    "Q9. Write a program that takes a list of integers as input and returns the product of all the numbers in the\n",
    "list using a while loop.\n"
   ]
  },
  {
   "cell_type": "code",
   "execution_count": 64,
   "metadata": {},
   "outputs": [
    {
     "data": {
      "text/plain": [
       "120"
      ]
     },
     "execution_count": 64,
     "metadata": {},
     "output_type": "execute_result"
    }
   ],
   "source": [
    "def multiplication_list(lst):\n",
    "    multiplication=1\n",
    "    for element in lst:\n",
    "        if type(element)==int:\n",
    "            multiplication=multiplication*element\n",
    "\n",
    "    return multiplication\n",
    "\n",
    "\n",
    "multiplication_list([1,2,3,4,5,\"d\"])"
   ]
  },
  {
   "attachments": {},
   "cell_type": "markdown",
   "metadata": {},
   "source": [
    "Q10. Write a program that prompts the user to enter a positive integer and then prints out the factorial of\n",
    "that number using a while loop."
   ]
  },
  {
   "cell_type": "code",
   "execution_count": 65,
   "metadata": {},
   "outputs": [
    {
     "data": {
      "text/plain": [
       "24"
      ]
     },
     "execution_count": 65,
     "metadata": {},
     "output_type": "execute_result"
    }
   ],
   "source": [
    "def factorial(number):\n",
    "    \n",
    "    i=number\n",
    "    multiplication=1\n",
    "    while i>0:\n",
    "        multiplication*=i\n",
    "        i=i-1\n",
    "\n",
    "    return  multiplication\n",
    "\n",
    "factorial(4)"
   ]
  }
 ],
 "metadata": {
  "kernelspec": {
   "display_name": "Python 3",
   "language": "python",
   "name": "python3"
  },
  "language_info": {
   "codemirror_mode": {
    "name": "ipython",
    "version": 3
   },
   "file_extension": ".py",
   "mimetype": "text/x-python",
   "name": "python",
   "nbconvert_exporter": "python",
   "pygments_lexer": "ipython3",
   "version": "3.10.2"
  },
  "orig_nbformat": 4
 },
 "nbformat": 4,
 "nbformat_minor": 2
}
