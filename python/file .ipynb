{
 "cells": [
  {
   "attachments": {},
   "cell_type": "markdown",
   "metadata": {},
   "source": [
    "Q1. Can you create a Python program that reads a text file and counts the number of words contained\n",
    "within it? The program should be designed to read the file and break it down into individual words, using\n",
    "spaces, punctuation marks, and other delimiters to separate the words. It should then count the number\n",
    "of words found in the file and display this count as output. The program should be flexible enough to work\n",
    "with different text files and should be able to handle a variety of formatting and punctuation styles.\n"
   ]
  },
  {
   "cell_type": "code",
   "execution_count": 4,
   "metadata": {},
   "outputs": [
    {
     "data": {
      "text/plain": [
       "[]"
      ]
     },
     "execution_count": 4,
     "metadata": {},
     "output_type": "execute_result"
    }
   ],
   "source": [
    "import string\n",
    "\n",
    "def count_number(text_file):\n",
    "    punctuation_marks = set(string.punctuation)\n",
    "    unique_words = []\n",
    "    new_word = \"\"\n",
    "\n",
    "    with open(text_file, 'r') as file:\n",
    "        for line in file:\n",
    "            for word in line.split():\n",
    "                if word not in punctuation_marks:\n",
    "                    new_word += word\n",
    "                else:\n",
    "                    unique_words.append(new_word)\n",
    "                    new_word = \"\"\n",
    "    \n",
    "    return unique_words\n",
    "\n",
    "count_number(\"abc.txt\")"
   ]
  },
  {
   "attachments": {},
   "cell_type": "markdown",
   "metadata": {},
   "source": [
    "Q2. Could you help me create a Python program that can find and display the longest word in a text file?\n",
    "The program should be able to read any text file and separate its contents into individual words, taking\n",
    "into account various delimiters like spaces, punctuation marks, and other characters. Then, it should\n",
    "compare the length of each word and determine which one is the longest, and finally, print that word as\n",
    "output. The program should be versatile enough to work with various text files and be able to handle\n",
    "different formatting styles and punctuation.\n"
   ]
  },
  {
   "attachments": {},
   "cell_type": "markdown",
   "metadata": {},
   "source": [
    "Q3. Write a Python program to read a text file and print out the most frequent word(s) in the file.\n"
   ]
  },
  {
   "attachments": {},
   "cell_type": "markdown",
   "metadata": {},
   "source": [
    "Q4. How can you use Python to count the number of rows in a CSV file?\n"
   ]
  },
  {
   "attachments": {},
   "cell_type": "markdown",
   "metadata": {},
   "source": [
    "\n",
    "Q5. How can you use Python to calculate the average of a specific column in a CSV file?\n"
   ]
  },
  {
   "attachments": {},
   "cell_type": "markdown",
   "metadata": {},
   "source": [
    "Q6. Write a Python program to read a JSON file and print out the value of a specified key.\n"
   ]
  },
  {
   "attachments": {},
   "cell_type": "markdown",
   "metadata": {},
   "source": [
    "\n",
    "Q7. Can you provide a Python code snippet to write a list of strings into a text file where each string is\n",
    "written on a new line?\n"
   ]
  },
  {
   "attachments": {},
   "cell_type": "markdown",
   "metadata": {},
   "source": [
    "Q8. Can you provide a Python code to read a binary file and display the data in hexadecimal format.\n"
   ]
  },
  {
   "attachments": {},
   "cell_type": "markdown",
   "metadata": {},
   "source": [
    "Q9. Can you write a Python code to read a Comma-Separated Values (CSV) file, apply a specific condition\n",
    "to each row, and create a new CSV file that contains only the rows that satisfy the condition? For example,\n",
    "if the CSV file contains information about products and their prices, you may want to create a new CSV\n",
    "file that only includes the products that are within a certain price range. The program should be able to\n",
    "read the CSV file, compare the values in each row to the specified condition, and write the rows that meet\n",
    "the criteria to a new CSV file.\n"
   ]
  },
  {
   "attachments": {},
   "cell_type": "markdown",
   "metadata": {},
   "source": [
    "Q10. Write a Python program to read a text file, count the frequency of each word, and write the results to\n",
    "a new text file.s"
   ]
  }
 ],
 "metadata": {
  "kernelspec": {
   "display_name": "Python 3",
   "language": "python",
   "name": "python3"
  },
  "language_info": {
   "codemirror_mode": {
    "name": "ipython",
    "version": 3
   },
   "file_extension": ".py",
   "mimetype": "text/x-python",
   "name": "python",
   "nbconvert_exporter": "python",
   "pygments_lexer": "ipython3",
   "version": "3.10.2"
  },
  "orig_nbformat": 4
 },
 "nbformat": 4,
 "nbformat_minor": 2
}
