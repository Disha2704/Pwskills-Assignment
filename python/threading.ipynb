{
 "cells": [
  {
   "attachments": {},
   "cell_type": "markdown",
   "metadata": {},
   "source": [
    "Q1. Write a program that spawns two threads. One thread should print even numbers between 0 and 10,\n",
    "and the other thread should print odd numbers between 1 and 9.\n"
   ]
  },
  {
   "attachments": {},
   "cell_type": "markdown",
   "metadata": {},
   "source": [
    "\n",
    "Q2. Write a program that generates a list of random numbers and sorts them using multithreading. Use\n",
    "two threads to sort the first half and the second half of the list in parallel.\n"
   ]
  },
  {
   "attachments": {},
   "cell_type": "markdown",
   "metadata": {},
   "source": [
    "Q3. Write a program that simulates a bank account transaction. The program should create two threads,\n",
    "one for a deposit and one for a withdrawal. The deposit thread should add\n",
    "100 to the account,and the withdrawal thread should withdraw\n",
    "50 from the account. Run the program for 10 iterations.\n"
   ]
  },
  {
   "attachments": {},
   "cell_type": "markdown",
   "metadata": {},
   "source": [
    "Q4. Write a Python program that creates a thread to print out the current date and time every 5 seconds.\n",
    "The program should continue running until the user presses the 'q' key.\n"
   ]
  },
  {
   "attachments": {},
   "cell_type": "markdown",
   "metadata": {},
   "source": [
    "Q5. Write a Python program that creates two threads. Each thread should print out the numbers from 1 to\n",
    "10. The two threads should run concurrently and print out the numbers in an interleaved fashion."
   ]
  },
  {
   "attachments": {},
   "cell_type": "markdown",
   "metadata": {},
   "source": [
    "Q6. Write a Python program to create a shared variable between two threads and increment its value in\n",
    "each thread.\n"
   ]
  },
  {
   "attachments": {},
   "cell_type": "markdown",
   "metadata": {},
   "source": [
    "Q7. Here's a Python program that creates a thread to count down from 5 to 0 and prints \"Blastoff!\" when\n",
    "the count reaches 0:\n"
   ]
  },
  {
   "attachments": {},
   "cell_type": "markdown",
   "metadata": {},
   "source": [
    "Q8. Write a program that creates a thread to print the Fibonacci sequence up to a certain number n. The\n",
    "main thread should prompt the user for the value of n.\n"
   ]
  },
  {
   "attachments": {},
   "cell_type": "markdown",
   "metadata": {},
   "source": [
    "Q9. Write a program that creates two threads to add and subtract numbers from a shared variable. The\n",
    "shared variable should start at 0, and each thread should perform 10 iterations of adding or subtracting a\n",
    "random integer between 1 and 10. The program should print the final value of the shared variable.\n"
   ]
  },
  {
   "attachments": {},
   "cell_type": "markdown",
   "metadata": {},
   "source": [
    "Q10. Write a program that creates a thread to calculate the sum of the numbers from 1 to 100 and prints\n",
    "the result."
   ]
  }
 ],
 "metadata": {
  "language_info": {
   "name": "python"
  },
  "orig_nbformat": 4
 },
 "nbformat": 4,
 "nbformat_minor": 2
}
