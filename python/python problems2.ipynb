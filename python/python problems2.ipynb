{
 "cells": [
  {
   "attachments": {},
   "cell_type": "markdown",
   "metadata": {},
   "source": [
    "Q1. Create a list in python using the followings: 2,3,4,5,6,7 with variable ‘a’\n",
    "Add ‘mango to the above list\n",
    "Also add banana, grapes & orange in the list\n",
    "insert apple in the 5th position of a variable ‘a’\n",
    "Remove last item from the list\n"
   ]
  },
  {
   "cell_type": "code",
   "execution_count": 9,
   "metadata": {},
   "outputs": [
    {
     "name": "stdout",
     "output_type": "stream",
     "text": [
      "[2, 3, 4, 5, 6, 7]\n",
      "[2, 3, 4, 5, 6, 7, 'mango']\n",
      "[2, 3, 4, 5, 6, 7, 'mango', 'banana', 'grapes', 'orange']\n",
      "[2, 3, 4, 5, 'apple', 7, 'mango', 'banana', 'grapes', 'orange']\n",
      "[2, 3, 4, 5, 'apple', 7, 'mango', 'banana', 'grapes']\n"
     ]
    }
   ],
   "source": [
    "l=[2,3,4,5,6,7]\n",
    "print(l)\n",
    "# Add ‘mango to the above \n",
    "l.append(\"mango\")\n",
    "print(l)\n",
    "# Also add banana, grapes & orange in the list\n",
    "l.extend([\"banana\",\"grapes\",\"orange\"])\n",
    "print(l)\n",
    "# insert apple in the 5th position of a variable ‘a’\n",
    "l[4]=\"apple\"\n",
    "print(l)\n",
    "# Remove last item from the list\n",
    "l.pop()\n",
    "print(l)\n"
   ]
  },
  {
   "attachments": {},
   "cell_type": "markdown",
   "metadata": {},
   "source": [
    "Q2.\n",
    "L = [1,2,3,4,5,6,7]\n",
    "Using the above list slice from 1:4\n"
   ]
  },
  {
   "cell_type": "code",
   "execution_count": 10,
   "metadata": {},
   "outputs": [
    {
     "name": "stdout",
     "output_type": "stream",
     "text": [
      "[3, 4, 5]\n"
     ]
    }
   ],
   "source": [
    "print(l[1:4])"
   ]
  },
  {
   "attachments": {},
   "cell_type": "markdown",
   "metadata": {},
   "source": [
    "Q3. Reverse the order of given string L = [4,5,6,8,3] Without using reverse() function.\n"
   ]
  },
  {
   "cell_type": "code",
   "execution_count": 17,
   "metadata": {},
   "outputs": [
    {
     "name": "stdout",
     "output_type": "stream",
     "text": [
      "[3, 8, 6, 5, 4]\n"
     ]
    }
   ],
   "source": [
    "L=[4,5,6,8,3]\n",
    "L=L[::-1]\n",
    "print(L)"
   ]
  },
  {
   "attachments": {},
   "cell_type": "markdown",
   "metadata": {},
   "source": [
    "Q4. Use list comprehension to square the given list L=[2,4,7,3,6,8]\n"
   ]
  },
  {
   "cell_type": "code",
   "execution_count": 19,
   "metadata": {},
   "outputs": [
    {
     "name": "stdout",
     "output_type": "stream",
     "text": [
      "[4, 16, 49, 9, 36, 64]\n"
     ]
    }
   ],
   "source": [
    "l=[2,4,7,3,6,8]\n",
    "l=[i**2 for i in l]\n",
    "print(l)"
   ]
  },
  {
   "attachments": {},
   "cell_type": "markdown",
   "metadata": {},
   "source": [
    "Q5. Create a function that takes in a tuple of integers and returns the sum of the integers. Test the\n",
    "function with a tuple of your choice.\n"
   ]
  },
  {
   "cell_type": "code",
   "execution_count": 23,
   "metadata": {},
   "outputs": [
    {
     "data": {
      "text/plain": [
       "15"
      ]
     },
     "execution_count": 23,
     "metadata": {},
     "output_type": "execute_result"
    }
   ],
   "source": [
    "def tupple_addition(tuple):\n",
    "    n=len(tuple)\n",
    "    sum=(n*(n+1))/2\n",
    "    \n",
    "    return int(sum)\n",
    "tupple_addition((1,2,3,4,5))"
   ]
  },
  {
   "attachments": {},
   "cell_type": "markdown",
   "metadata": {},
   "source": [
    "Q6. Create two sets of your favourite fruits, and use the union() method to combine them into a single set.\n",
    "Print the resulting set to the console.\n"
   ]
  },
  {
   "cell_type": "code",
   "execution_count": 24,
   "metadata": {},
   "outputs": [
    {
     "name": "stdout",
     "output_type": "stream",
     "text": [
      "{'banana', 'grape', 'kiwi', 'orange', 'apple', 'pear'}\n"
     ]
    }
   ],
   "source": [
    "fruits1 = {\"apple\", \"banana\", \"pear\"}\n",
    "fruits2 = {\"orange\", \"grape\", \"kiwi\"}\n",
    "combined_fruits = fruits1.union(fruits2)\n",
    "print(combined_fruits)"
   ]
  },
  {
   "attachments": {},
   "cell_type": "markdown",
   "metadata": {},
   "source": [
    "Q7. Create a set of random words, and use the add() method to add a new word to the set. Print the\n",
    "resulting set to the console.\n"
   ]
  },
  {
   "cell_type": "code",
   "execution_count": 27,
   "metadata": {},
   "outputs": [
    {
     "name": "stdout",
     "output_type": "stream",
     "text": [
      "{'a', 'd', 'b', 'c'}\n"
     ]
    }
   ],
   "source": [
    "set={\"a\",\"b\",\"c\"}\n",
    "set.add(\"d\")\n",
    "print(set)"
   ]
  },
  {
   "attachments": {},
   "cell_type": "markdown",
   "metadata": {},
   "source": [
    "Q8. Create a set of your favourite animals, and use the remove() method to remove one animal from the\n",
    "set. Print the resulting set to the console.\n"
   ]
  },
  {
   "cell_type": "code",
   "execution_count": 28,
   "metadata": {},
   "outputs": [
    {
     "name": "stdout",
     "output_type": "stream",
     "text": [
      "{'tiger', 'lion'}\n"
     ]
    }
   ],
   "source": [
    "set={\"lion\",\"tiger\",\"dog\"}\n",
    "set.remove(\"dog\")\n",
    "print(set)"
   ]
  },
  {
   "attachments": {},
   "cell_type": "markdown",
   "metadata": {},
   "source": [
    "Q9. favorite_books = {\"1984\", \"To Kill a Mockingbird\", \"Pride and Prejudice\"}\n",
    "favorite_movies = [\"The Shawshank Redemption\", \"The Godfather\", \"The Dark Knight\"]\n",
    "Use the zip() function to combine the book set and movie list into a list of tuples representing book/\n",
    "movie pairs. Print the resulting list.\n"
   ]
  },
  {
   "cell_type": "code",
   "execution_count": 37,
   "metadata": {},
   "outputs": [
    {
     "name": "stdout",
     "output_type": "stream",
     "text": [
      "[('1984', 'The Shawshank Redemption'), ('To Kill a Mockingbird', 'The Godfather'), ('Pride and Prejudice', 'The Dark Knight')]\n"
     ]
    }
   ],
   "source": [
    "favorite_books = {\"1984\", \"To Kill a Mockingbird\", \"Pride and Prejudice\"}\n",
    "favorite_movies = [\"The Shawshank Redemption\", \"The Godfather\", \"The Dark Knight\"]\n",
    "\n",
    "combined = list(zip(favorite_books, favorite_movies))\n",
    "print(combined)\n"
   ]
  },
  {
   "attachments": {},
   "cell_type": "markdown",
   "metadata": {},
   "source": [
    "Q10. Write a Python program to find the difference between consecutive numbers in a list."
   ]
  },
  {
   "cell_type": "code",
   "execution_count": 44,
   "metadata": {},
   "outputs": [
    {
     "data": {
      "text/plain": [
       "[4, 3, 6, 4]"
      ]
     },
     "execution_count": 44,
     "metadata": {},
     "output_type": "execute_result"
    }
   ],
   "source": [
    "def consecutive_diffrence(lst):\n",
    "    l=[]\n",
    "    for i in range(len(lst)-1):\n",
    "        l.append(lst[i+1]-lst[i])\n",
    "    \n",
    "    return l\n",
    "\n",
    "consecutive_diffrence([5, 9, 12, 18, 22])"
   ]
  }
 ],
 "metadata": {
  "kernelspec": {
   "display_name": "Python 3",
   "language": "python",
   "name": "python3"
  },
  "language_info": {
   "codemirror_mode": {
    "name": "ipython",
    "version": 3
   },
   "file_extension": ".py",
   "mimetype": "text/x-python",
   "name": "python",
   "nbconvert_exporter": "python",
   "pygments_lexer": "ipython3",
   "version": "3.10.2"
  },
  "orig_nbformat": 4
 },
 "nbformat": 4,
 "nbformat_minor": 2
}
