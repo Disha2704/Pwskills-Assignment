{
 "cells": [
  {
   "attachments": {},
   "cell_type": "markdown",
   "metadata": {},
   "source": [
    "Q1: What is the difference between a t-test and a z-test? Provide an example scenario where you would\n",
    "use each type of test.\n",
    "\n",
    "\n",
    "A t-test is used when the sample size is small, and the population variance is unknown. It assumes that the population follows a normal distribution. A t-test calculates the t-statistic by comparing the difference between the sample means to the variation within the samples.\n",
    "\n",
    "Example scenario for a t-test:\n",
    "Suppose we want to compare the average heights of two groups of students, Group A and Group B. We collect a small sample of students from each group (e.g., 20 students per group) and measure their heights. As the sample sizes are relatively small, and we do not know the population variances, we would use a t-test to determine if there is a significant difference in the average heights between the two groups.\n",
    "\n",
    "A z-test, on the other hand, is used when the sample size is large (typically above 30) or when the population variance is known. It also assumes that the population follows a normal distribution. A z-test calculates the z-score by comparing the difference between the sample means to the known population variance.\n",
    "\n",
    "Example scenario for a z-test:\n",
    "Let's say we want to determine if a new weight-loss program is effective. We randomly select a large sample of individuals (e.g., 500 participants) and measure their weights before and after the program. Since the sample size is large and assuming the population variance is known or the Central Limit Theorem applies, we can use a z-test to compare the mean weights before and after the program and determine if there is a significant difference."
   ]
  },
  {
   "attachments": {},
   "cell_type": "markdown",
   "metadata": {},
   "source": [
    "Q2: Differentiate between one-tailed and two-tailed tests.\n",
    "\n",
    " a one-tailed test is used when there is a specific direction specified in the hypothesis, while a two-tailed test is used when the hypothesis is non-directional, allowing for the detection of any significant difference. "
   ]
  },
  {
   "attachments": {},
   "cell_type": "markdown",
   "metadata": {},
   "source": [
    "Q3: Explain the concept of Type 1 and Type 2 errors in hypothesis testing. Provide an example scenario for\n",
    "each type of error.\n",
    "\n",
    "Type 1 error (False Positive):\n",
    "A Type 1 error occurs when we reject a null hypothesis (H0) when it is actually true. In other words, we conclude that there is a significant effect or difference when, in reality, there is no effect or difference present. It is also known as a false positive.\n",
    "Example scenario for Type 1 error:\n",
    "Suppose a pharmaceutical company is testing a new drug for its effectiveness in reducing cholesterol levels. The null hypothesis (H0) states that the drug has no effect on cholesterol levels. However, due to a random variation in the data or other factors, the statistical test results lead to the rejection of the null hypothesis, indicating that the drug is effective. In reality, the drug may have no effect, but the Type 1 error leads to a false positive conclusion that the drug is effective.\n",
    "\n",
    "Type 2 error (False Negative):\n",
    "A Type 2 error occurs when we fail to reject a null hypothesis (H0) when it is actually false. In other words, we fail to detect a significant effect or difference when there is a true effect or difference present. It is also known as a false negative.\n",
    "Example scenario for Type 2 error:\n",
    "Consider a scenario where a medical researcher is conducting a study to determine if a new treatment reduces the symptoms of a certain disease. The null hypothesis (H0) states that the treatment has no effect. However, due to factors like small sample size or weak treatment effect, the statistical test fails to reject the null hypothesis. As a result, the researcher concludes that the treatment is ineffective, even though it might have some effect. This leads to a Type 2 error, a false negative conclusion."
   ]
  },
  {
   "attachments": {},
   "cell_type": "markdown",
   "metadata": {},
   "source": [
    "Q4: Explain Bayes's theorem with an example.\n",
    "\n",
    "Bayes's theorem is a fundamental concept in probability theory and statistics that allows us to update the probability of an event based on new information. It involves conditional probabilities and is named after the Reverend Thomas Bayes, an 18th-century mathematician.\n",
    "\n",
    "The general form of Bayes's theorem can be stated as follows:\n",
    "\n",
    "P(A|B) = [P(B|A) * P(A)] / P(B)\n",
    "\n",
    "Where:\n",
    "\n",
    "P(A|B) represents the probability of event A given event B.\n",
    "P(B|A) is the probability of event B given event A.\n",
    "P(A) and P(B) are the probabilities of events A and B, respectively."
   ]
  },
  {
   "attachments": {},
   "cell_type": "markdown",
   "metadata": {},
   "source": [
    "Q5: What is a confidence interval? How to calculate the confidence interval, explain with an example.\n",
    "\n",
    "A confidence interval is a range of values that provides an estimate of the plausible range of values for an unknown population parameter, such as the mean or proportion. It is calculated based on a sample from the population and provides a level of confidence that the true population parameter falls within the interval.\n",
    "\n",
    "The general formula for calculating a confidence interval for a population parameter can be expressed as:\n",
    "\n",
    "Confidence Interval = Point Estimate ± Margin of Error"
   ]
  },
  {
   "attachments": {},
   "cell_type": "markdown",
   "metadata": {},
   "source": [
    "Q6. Use Bayes' Theorem to calculate the probability of an event occurring given prior knowledge of the\n",
    "event's probability and new evidence. Provide a sample problem and solution.\n",
    "\n",
    "\n",
    "Problem: In a certain city, it is known that 20% of people have a specific medical condition. A diagnostic test for this condition has a 90% accuracy rate in correctly identifying positive cases and a 95% accuracy rate in correctly identifying negative cases. If a randomly selected person tests positive for the condition, what is the probability that the person actually has the condition?\n",
    "\n",
    "Solution:\n",
    "Let's define the events as follows:\n",
    "A = the person has the medical condition\n",
    "B = the person tests positive for the condition\n",
    "\n",
    "Given:\n",
    "P(A) = 0.20 (prior probability of having the condition)\n",
    "P(B|A) = 0.90 (probability of testing positive given that the person has the condition)\n",
    "P(B|¬A) = 0.05 (probability of testing positive given that the person does not have the condition)\n",
    "\n",
    "We need to calculate P(A|B), which represents the updated probability of having the condition given a positive test result.\n",
    "\n",
    "First, we need to calculate P(B), the probability of testing positive. This can be expressed as:\n",
    "P(B) = P(B|A) * P(A) + P(B|¬A) * P(¬A)\n",
    "P(B) = (0.90 * 0.20) + (0.05 * 0.80)\n",
    "P(B) = 0.18 + 0.04\n",
    "P(B) = 0.22\n",
    "\n",
    "Now, we can calculate P(A|B) using Bayes' Theorem:\n",
    "P(A|B) = (P(B|A) * P(A)) / P(B)\n",
    "P(A|B) = (0.90 * 0.20) / 0.22\n",
    "P(A|B) = 0.18 / 0.22\n",
    "P(A|B) ≈ 0.818\n",
    "\n",
    "Therefore, given a positive test result, the probability that the person actually has the medical condition is approximately 0.818 or 81.8%."
   ]
  },
  {
   "attachments": {},
   "cell_type": "markdown",
   "metadata": {},
   "source": [
    "\n",
    "Q7. Calculate the 95% confidence interval for a sample of data with a mean of 50 and a standard deviation\n",
    "of 5. Interpret the results.\n",
    "\n"
   ]
  },
  {
   "cell_type": "code",
   "execution_count": 3,
   "metadata": {},
   "outputs": [
    {
     "name": "stdout",
     "output_type": "stream",
     "text": [
      "Confidence Interval: [49.01, 50.99]\n"
     ]
    }
   ],
   "source": [
    "import numpy as np\n",
    "from scipy.stats import t\n",
    "\n",
    "def range(sample_mean,standard_deviation,sample_size):\n",
    "    alpha = 0.05\n",
    "    df = sample_size - 1\n",
    "    critical_value = t.ppf(1 - alpha/2, df)\n",
    "\n",
    "    standard_error = standard_deviation / (sample_size)**(1/2)\n",
    "    \n",
    "    lower_bound = sample_mean - (critical_value * standard_error)\n",
    "    upper_bound = sample_mean + (critical_value * standard_error)\n",
    "\n",
    "    print(\"Confidence Interval: [{:.2f}, {:.2f}]\".format(lower_bound, upper_bound))\n",
    "\n",
    "range(50,5,100)\n",
    "    "
   ]
  },
  {
   "attachments": {},
   "cell_type": "markdown",
   "metadata": {},
   "source": [
    "Q8. What is the margin of error in a confidence interval? How does sample size affect the margin of error?\n",
    "Provide an example of a scenario where a larger sample size would result in a smaller margin of error.\n",
    "\n",
    "The margin of error is typically expressed as a range around the point estimate. For example, if a confidence interval is reported as (50 ± 3), the margin of error is 3, indicating that the estimate could be off by up to 3 units in either direction.\n",
    "\n",
    "The sample size plays a crucial role in determining the margin of error. A larger sample size tends to result in a smaller margin of error. This is because a larger sample size provides more information and reduces the sampling variability.\n",
    "\n",
    "The sample size plays a crucial role in determining the margin of error. A larger sample size tends to result in a smaller margin of error. This is because a larger sample size provides more information and reduces the sampling variability."
   ]
  },
  {
   "attachments": {},
   "cell_type": "markdown",
   "metadata": {},
   "source": [
    "Q9. Calculate the z-score for a data point with a value of 75, a population mean of 70, and a population standard deviation of 5. Interpret the results.\n"
   ]
  },
  {
   "cell_type": "code",
   "execution_count": 5,
   "metadata": {},
   "outputs": [
    {
     "data": {
      "text/plain": [
       "61.0"
      ]
     },
     "execution_count": 5,
     "metadata": {},
     "output_type": "execute_result"
    }
   ],
   "source": [
    "def z_score(point,mean,standard_deviation):\n",
    "    z_score = point-mean/standard_deviation\n",
    "\n",
    "    return z_score\n",
    "\n",
    "z_score(75,70,5)"
   ]
  },
  {
   "attachments": {},
   "cell_type": "markdown",
   "metadata": {},
   "source": [
    "Q10. In a study of the effectiveness of a new weight loss drug, a sample of 50 participants lost an average\n",
    "of 6 pounds with a standard deviation of 2.5 pounds. Conduct a hypothesis test to determine if the drug is\n",
    "significantly effective at a 95% confidence level using a t-test.\n",
    "\n"
   ]
  },
  {
   "cell_type": "code",
   "execution_count": 6,
   "metadata": {},
   "outputs": [
    {
     "name": "stdout",
     "output_type": "stream",
     "text": [
      "T-Value: 16.970562748477143\n",
      "Critical Value: 2.009575234489209\n",
      "P-Value: 0.0\n"
     ]
    }
   ],
   "source": [
    "import scipy.stats as stats\n",
    "\n",
    "sample_mean = 6\n",
    "sample_stddev = 2.5\n",
    "sample_size = 50\n",
    "confidence_level = 0.95\n",
    "\n",
    "# Calculate the standard error\n",
    "standard_error = sample_stddev / (sample_size ** 0.5)\n",
    "\n",
    "# Calculate the t-value\n",
    "t_value = (sample_mean - 0) / standard_error\n",
    "\n",
    "# Calculate the degrees of freedom\n",
    "degrees_of_freedom = sample_size - 1\n",
    "\n",
    "# Calculate the critical value for a two-tailed test\n",
    "alpha = 1 - confidence_level\n",
    "critical_value = stats.t.ppf(1 - alpha / 2, degrees_of_freedom)\n",
    "\n",
    "# Perform the t-test and obtain the p-value\n",
    "p_value = 2 * (1 - stats.t.cdf(abs(t_value), degrees_of_freedom))\n",
    "\n",
    "# Print the t-value, critical value, and p-value\n",
    "print(\"T-Value:\", t_value)\n",
    "print(\"Critical Value:\", critical_value)\n",
    "print(\"P-Value:\", p_value)\n"
   ]
  },
  {
   "attachments": {},
   "cell_type": "markdown",
   "metadata": {},
   "source": [
    "Q11. In a survey of 500 people, 65% reported being satisfied with their current job. Calculate the 95%\n",
    "confidence interval for the true proportion of people who are satisfied with their job.\n"
   ]
  },
  {
   "cell_type": "code",
   "execution_count": 7,
   "metadata": {},
   "outputs": [
    {
     "name": "stdout",
     "output_type": "stream",
     "text": [
      "Confidence Interval: [0.6082, 0.6918]\n"
     ]
    }
   ],
   "source": [
    "import math\n",
    "\n",
    "sample_proportion = 0.65\n",
    "sample_size = 500\n",
    "confidence_level = 0.95\n",
    "\n",
    "# Calculate the critical value\n",
    "critical_value = 1.96\n",
    "\n",
    "# Calculate the standard error\n",
    "standard_error = math.sqrt((sample_proportion * (1 - sample_proportion)) / sample_size)\n",
    "\n",
    "# Calculate the confidence interval\n",
    "lower_bound = sample_proportion - (critical_value * standard_error)\n",
    "upper_bound = sample_proportion + (critical_value * standard_error)\n",
    "\n",
    "# Print the results\n",
    "print(\"Confidence Interval: [{:.4f}, {:.4f}]\".format(lower_bound, upper_bound))\n"
   ]
  },
  {
   "attachments": {},
   "cell_type": "markdown",
   "metadata": {},
   "source": [
    "Q12. A researcher is testing the effectiveness of two different teaching methods on student performance.\n",
    "Sample A has a mean score of 85 with a standard deviation of 6, while sample B has a mean score of 82\n",
    "with a standard deviation of 5. Conduct a hypothesis test to determine if the two teaching methods have a\n",
    "significant difference in student performance using a t-test with a significance level of 0.01.\n"
   ]
  },
  {
   "cell_type": "code",
   "execution_count": 8,
   "metadata": {},
   "outputs": [
    {
     "name": "stdout",
     "output_type": "stream",
     "text": [
      "Reject the null hypothesis. There is evidence of a significant difference in population means.\n"
     ]
    }
   ],
   "source": [
    "import scipy.stats as stats\n",
    "\n",
    "# Group 1 data\n",
    "n1 = 50\n",
    "mean1 = 85\n",
    "std_dev1 = 6\n",
    "\n",
    "# Group 2 data\n",
    "n2 = 50\n",
    "mean2 = 82\n",
    "std_dev2 = 5\n",
    "\n",
    "# Calculate the t-statistic and p-value\n",
    "t_statistic, p_value = stats.ttest_ind_from_stats(mean1, std_dev1, n1, mean2, std_dev2, n2)\n",
    "\n",
    "# Compare the p-value with the significance level\n",
    "alpha = 0.01\n",
    "if p_value < alpha:\n",
    "    print(\"Reject the null hypothesis. There is evidence of a significant difference in population means.\")\n",
    "else:\n",
    "    print(\"Fail to reject the null hypothesis. There is no significant difference in population means.\")\n"
   ]
  },
  {
   "attachments": {},
   "cell_type": "markdown",
   "metadata": {},
   "source": [
    "Q13. A population has a mean of 60 and a standard deviation of 8. A sample of 50 observations has a mean\n",
    "of 65. Calculate the 90% confidence interval for the true population mean.\n"
   ]
  },
  {
   "cell_type": "code",
   "execution_count": 9,
   "metadata": {},
   "outputs": [
    {
     "name": "stdout",
     "output_type": "stream",
     "text": [
      "Confidence Interval: [63.1389, 66.8611]\n"
     ]
    }
   ],
   "source": [
    "import math\n",
    "\n",
    "population_mean = 60\n",
    "population_stddev = 8\n",
    "sample_mean = 65\n",
    "sample_size = 50\n",
    "confidence_level = 0.90\n",
    "\n",
    "# Calculate the critical value\n",
    "critical_value = 1.645\n",
    "\n",
    "# Calculate the standard error\n",
    "standard_error = population_stddev / math.sqrt(sample_size)\n",
    "\n",
    "# Calculate the confidence interval\n",
    "lower_bound = sample_mean - (critical_value * standard_error)\n",
    "upper_bound = sample_mean + (critical_value * standard_error)\n",
    "\n",
    "# Print the results\n",
    "print(\"Confidence Interval: [{:.4f}, {:.4f}]\".format(lower_bound, upper_bound))\n"
   ]
  },
  {
   "attachments": {},
   "cell_type": "markdown",
   "metadata": {},
   "source": [
    "Q14. In a study of the effects of caffeine on reaction time, a sample of 30 participants had an average\n",
    "reaction time of 0.25 seconds with a standard deviation of 0.05 seconds. Conduct a hypothesis test to\n",
    "determine if the caffeine has a significant effect on reaction time at a 90% confidence level using a t-test."
   ]
  },
  {
   "cell_type": "code",
   "execution_count": 10,
   "metadata": {},
   "outputs": [
    {
     "name": "stdout",
     "output_type": "stream",
     "text": [
      "T-Value: 27.386127875258307\n",
      "Critical Value: 1.6991270265334972\n",
      "P-Value: 0.0\n"
     ]
    }
   ],
   "source": [
    "import scipy.stats as stats\n",
    "\n",
    "# Sample data\n",
    "sample_mean = 0.25\n",
    "sample_stddev = 0.05\n",
    "sample_size = 30\n",
    "\n",
    "# Null hypothesis value\n",
    "null_mean = 0\n",
    "\n",
    "# Calculate the degrees of freedom\n",
    "degrees_of_freedom = sample_size - 1\n",
    "\n",
    "# Calculate the t-value\n",
    "t_value = (sample_mean - null_mean) / (sample_stddev / (sample_size ** 0.5))\n",
    "\n",
    "# Calculate the critical value for a two-tailed test\n",
    "confidence_level = 0.90\n",
    "alpha = 1 - confidence_level\n",
    "critical_value = stats.t.ppf(1 - alpha / 2, degrees_of_freedom)\n",
    "\n",
    "# Perform the t-test and obtain the p-value\n",
    "p_value = 2 * (1 - stats.t.cdf(abs(t_value), degrees_of_freedom))\n",
    "\n",
    "# Print the t-value, critical value, and p-value\n",
    "print(\"T-Value:\", t_value)\n",
    "print(\"Critical Value:\", critical_value)\n",
    "print(\"P-Value:\", p_value)\n"
   ]
  }
 ],
 "metadata": {
  "kernelspec": {
   "display_name": "Python 3",
   "language": "python",
   "name": "python3"
  },
  "language_info": {
   "name": "python",
   "version": "3.10.2"
  },
  "orig_nbformat": 4
 },
 "nbformat": 4,
 "nbformat_minor": 2
}
