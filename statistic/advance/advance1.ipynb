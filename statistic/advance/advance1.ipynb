{
 "cells": [
  {
   "attachments": {},
   "cell_type": "markdown",
   "metadata": {},
   "source": [
    "Q1. What is the Probability density function?\n",
    "\n",
    "The probability density function (PDF) is a fundamental concept in probability theory and statistics. It describes the probability distribution of a continuous random variable. In simple terms, the PDF assigns probabilities to different outcomes or values of a random variable."
   ]
  },
  {
   "attachments": {},
   "cell_type": "markdown",
   "metadata": {},
   "source": [
    "Q2. What are the types of Probability distribution?\n",
    "\n",
    "There are several types of probability distributions in statistics. Here are some of the most common ones:\n",
    "\n",
    "Uniform Distribution: In a uniform distribution, all outcomes or values within a given range have equal probability. The probability density function (PDF) is constant within the range and zero outside of it.\n",
    "\n",
    "Normal Distribution: The normal distribution, also known as the Gaussian distribution, is a symmetric bell-shaped distribution. It is characterized by its mean (μ) and standard deviation (σ). Many natural phenomena and measurement errors tend to follow a normal distribution, and it is widely used in statistical inference.\n",
    "\n",
    "Binomial Distribution: The binomial distribution models the number of successes in a fixed number of independent Bernoulli trials, where each trial has only two possible outcomes (success or failure). It is characterized by the probability of success (p) and the number of trials (n).\n",
    "\n",
    "Poisson Distribution: The Poisson distribution models the number of events occurring in a fixed interval of time or space, given the average rate of occurrence. It is often used to describe rare events that occur independently of each other.\n",
    "\n",
    "Exponential Distribution: The exponential distribution models the time between events in a Poisson process, where events occur continuously and independently at a constant average rate. It is commonly used to model waiting times or durations.\n",
    "\n",
    "Gamma Distribution: The gamma distribution is a family of continuous probability distributions that generalizes the exponential distribution. It is often used to model continuous positive variables and waiting times.\n",
    "\n",
    "Beta Distribution: The beta distribution is a continuous probability distribution defined on the interval [0, 1]. It is commonly used as a prior distribution in Bayesian statistics and to model proportions and probabilities.\n",
    "\n",
    "Chi-Square Distribution: The chi-square distribution arises from the sum of squared standard normal random variables. It is often used in hypothesis testing and to construct confidence intervals."
   ]
  },
  {
   "attachments": {},
   "cell_type": "markdown",
   "metadata": {},
   "source": [
    "Q3. Write a Python function to calculate the probability density function of a normal distribution with\n",
    "given mean and standard deviation at a given point.\n",
    "\n"
   ]
  },
  {
   "cell_type": "code",
   "execution_count": 1,
   "metadata": {},
   "outputs": [],
   "source": [
    "import math\n",
    "\n",
    "def normal_pdf(x, mean, std_dev):\n",
    "    coefficient = 1 / (std_dev * math.sqrt(2 * math.pi))\n",
    "    exponent = -((x - mean) ** 2) / (2 * std_dev ** 2)\n",
    "    pdf = coefficient * math.exp(exponent)\n",
    "    return pdf\n"
   ]
  },
  {
   "attachments": {},
   "cell_type": "markdown",
   "metadata": {},
   "source": [
    "Q4. What are the properties of Binomial distribution? Give two examples of events where binomial\n",
    "distribution can be applied.\n",
    "\n",
    "The binomial distribution has several key properties:\n",
    "\n",
    "Fixed number of trials: The binomial distribution models a fixed number of independent trials or experiments.\n",
    "\n",
    "Two possible outcomes: Each trial has only two possible outcomes, typically labeled as \"success\" and \"failure.\"\n",
    "\n",
    "Constant probability: The probability of success (p) remains constant across all trials. The probability of failure is given by q = 1 - p.\n",
    "\n",
    "Independent trials: Each trial is assumed to be independent of the others, meaning the outcome of one trial does not affect the outcome of subsequent trials.\n",
    "\n",
    "Discrete distribution: The binomial distribution is a discrete probability distribution, as it deals with counting the number of successes in a fixed number of trials.\n",
    "\n",
    "Examples of events where the binomial distribution can be applied:\n",
    "\n",
    "Coin Flips: Consider a series of coin flips, where the goal is to count the number of heads obtained in a fixed number of flips. Each flip is an independent trial with two possible outcomes (heads or tails), making it suitable for modeling with a binomial distribution.\n",
    "\n",
    "Election Results: In a political election, the binomial distribution can be used to model the number of votes or the proportion of voters supporting a particular candidate in a fixed number of voting precincts or districts. Each precinct or district can be seen as an independent trial with two possible outcomes (voting for the candidate or not), making the binomial distribution applicable."
   ]
  },
  {
   "attachments": {},
   "cell_type": "markdown",
   "metadata": {},
   "source": [
    "Q5. Generate a random sample of size 1000 from a binomial distribution with probability of success 0.4\n",
    "and plot a histogram of the results using matplotlib.\n"
   ]
  },
  {
   "cell_type": "code",
   "execution_count": 2,
   "metadata": {},
   "outputs": [
    {
     "data": {
      "image/png": "[encoded data removed]",
      "text/plain": [
       "<Figure size 432x288 with 1 Axes>"
      ]
     },
     "metadata": {
      "needs_background": "light"
     },
     "output_type": "display_data"
    }
   ],
   "source": [
    "import numpy as np\n",
    "import matplotlib.pyplot as plt\n",
    "\n",
    "# Parameters\n",
    "sample_size = 1000\n",
    "probability_of_success = 0.4\n",
    "\n",
    "# Generate random sample from binomial distribution\n",
    "sample = np.random.binomial(1, probability_of_success, sample_size)\n",
    "\n",
    "# Plot histogram\n",
    "plt.hist(sample, edgecolor='black')\n",
    "plt.xlabel('Outcome')\n",
    "plt.ylabel('Frequency')\n",
    "plt.title('Histogram of Random Sample from Binomial Distribution')\n",
    "plt.xticks([0, 1], ['Failure', 'Success'])\n",
    "plt.show()\n"
   ]
  },
  {
   "attachments": {},
   "cell_type": "markdown",
   "metadata": {},
   "source": [
    "Q6. Write a Python function to calculate the cumulative distribution function of a Poisson distribution\n",
    "with given mean at a given point.\n"
   ]
  },
  {
   "cell_type": "code",
   "execution_count": 3,
   "metadata": {},
   "outputs": [],
   "source": [
    "import math\n",
    "\n",
    "def poisson_cdf(mean, point):\n",
    "    cdf = 0.0\n",
    "    k = 0\n",
    "    e_power_minus_lambda = math.exp(-mean)\n",
    "    \n",
    "    while k <= point:\n",
    "        cdf += (e_power_minus_lambda * (mean ** k)) / math.factorial(k)\n",
    "        k += 1\n",
    "    \n",
    "    return cdf\n"
   ]
  },
  {
   "attachments": {},
   "cell_type": "markdown",
   "metadata": {},
   "source": [
    "Q7. How Binomial distribution different from Poisson distribution?\n",
    "\n",
    "Binomial Distribution:\n",
    "\n",
    "It describes the number of successes in a fixed number of independent Bernoulli trials (experiments with two possible outcomes: success or failure).\n",
    "The trials are identical and independent of each other.\n",
    "The probability of success remains constant for each trial.\n",
    "The random variable follows a binomial distribution with parameters n (number of trials) and p (probability of success in each trial).\n",
    "The probability mass function (PMF) of the binomial distribution gives the probability of obtaining a specific number of successes in n trials.\n",
    "Examples: Flipping a coin multiple times and counting the number of heads, the number of defective items in a production batch.\n",
    "\n",
    "Poisson Distribution:\n",
    "\n",
    "It models the number of events occurring in a fixed interval of time or space.\n",
    "The events are assumed to occur randomly and independently of each other.\n",
    "The average rate of events occurring per interval remains constant.\n",
    "The random variable follows a Poisson distribution with a parameter λ (average rate of events per interval).\n",
    "The probability mass function (PMF) of the Poisson distribution gives the probability of observing a specific number of events in the interval.\n",
    "Examples: Counting the number of phone calls received at a call center in a given hour, the number of accidents occurring at a specific intersection in a day."
   ]
  },
  {
   "attachments": {},
   "cell_type": "markdown",
   "metadata": {},
   "source": [
    "Q8. Generate a random sample of size 1000 from a Poisson distribution with mean 5 and calculate the\n",
    "sample mean and variance.\n"
   ]
  },
  {
   "cell_type": "code",
   "execution_count": 4,
   "metadata": {},
   "outputs": [
    {
     "data": {
      "image/png": "[encoded data removed]",
      "text/plain": [
       "<Figure size 432x288 with 1 Axes>"
      ]
     },
     "metadata": {
      "needs_background": "light"
     },
     "output_type": "display_data"
    }
   ],
   "source": [
    "import numpy as np\n",
    "import matplotlib.pyplot as plt\n",
    "\n",
    "# Parameters for the Poisson distribution\n",
    "mean = 1\n",
    "sample_size = 1000\n",
    "\n",
    "# Generate random sample from Poisson distribution\n",
    "sample = np.random.poisson(mean, sample_size)\n",
    "\n",
    "# Plot histogram\n",
    "plt.hist(sample, edgecolor='black')\n",
    "plt.xlabel('Outcome')\n",
    "plt.ylabel('Frequency')\n",
    "plt.title('Histogram of Random Sample from Poisson Distribution')\n",
    "plt.show()\n"
   ]
  },
  {
   "attachments": {},
   "cell_type": "markdown",
   "metadata": {},
   "source": [
    "Q9. How mean and variance are related in Binomial distribution and Poisson distribution?\n",
    "\n",
    "Binomial Distribution:\n",
    "\n",
    "Mean: For a binomial distribution with parameters n (number of trials) and p (probability of success), the mean is given by μ = n * p.\n",
    "\n",
    "Variance: The variance of a binomial distribution is given by Var = n * p * (1 - p).\n",
    "\n",
    "Poisson Distribution:\n",
    "\n",
    "Mean: For a Poisson distribution, the mean (average rate of events per interval) is denoted by λ (lambda).\n",
    "\n",
    "Variance: The variance of a Poisson distribution is equal to its mean, i.e., Var = λ."
   ]
  },
  {
   "attachments": {},
   "cell_type": "markdown",
   "metadata": {},
   "source": [
    "Q10. In normal distribution with respect to mean position, where does the least frequent data appear?\n",
    "\n",
    "\n",
    "In a normal distribution, the least frequent data points appear in the tails of the distribution, farthest away from the mean."
   ]
  }
 ],
 "metadata": {
  "kernelspec": {
   "display_name": "Python 3",
   "language": "python",
   "name": "python3"
  },
  "language_info": {
   "codemirror_mode": {
    "name": "ipython",
    "version": 3
   },
   "file_extension": ".py",
   "mimetype": "text/x-python",
   "name": "python",
   "nbconvert_exporter": "python",
   "pygments_lexer": "ipython3",
   "version": "3.10.2"
  },
  "orig_nbformat": 4
 },
 "nbformat": 4,
 "nbformat_minor": 2
}
