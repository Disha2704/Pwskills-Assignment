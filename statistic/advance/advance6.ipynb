{
 "cells": [
  {
   "attachments": {},
   "cell_type": "markdown",
   "metadata": {},
   "source": [
    "Q1. Explain the assumptions required to use ANOVA and provide examples of violations that could impact\n",
    "the validity of the results.\n",
    "\n",
    "\n",
    "ANOVA (Analysis of Variance) is a statistical technique used to compare means between two or more groups. To ensure the validity of ANOVA results, several assumptions need to be met. Violations of these assumptions can impact the reliability and interpretation of the ANOVA results.\n",
    "\n",
    "Violation of independence: Data collected from paired observations or when individuals are included in multiple groups.\n",
    "Violation of normality: Heavily skewed data or presence of outliers within groups.\n",
    "Violation of homogeneity of variances: Unequal variability in the dependent variable across groups.\n",
    "Violation of independence of errors: Correlated or autocorrelated errors within groups.\n",
    "Violation of interval or ratio scale: Dependent variable measured on a nominal or ordinal scale rather than an interval or ratio scale."
   ]
  },
  {
   "attachments": {},
   "cell_type": "markdown",
   "metadata": {},
   "source": [
    "\n",
    "Q2. What are the three types of ANOVA, and in what situations would each be used?\n",
    "\n",
    "One-Way ANOVA: This type of ANOVA is used when you have one independent variable (also known as a factor) with two or more levels/groups, and you want to compare the means of a continuous dependent variable across these groups. It is used to determine if there are any significant differences between the means of the groups.\n",
    "\n",
    "Two-Way ANOVA: This type of ANOVA is used when you have two independent variables (factors) and you want to examine their main effects and interaction effect on a continuous dependent variable. It is used to determine if there are significant differences between groups based on the combination of levels of the two independent variables.\n",
    "\n",
    "Mixed ANOVA: This type of ANOVA is used when you have both between-subjects factors and within-subjects factors. It is used to analyze the effects of both independent variables (factors) on the dependent variable, where one factor is manipulated between subjects and the other is manipulated within subjects."
   ]
  },
  {
   "attachments": {},
   "cell_type": "markdown",
   "metadata": {},
   "source": [
    "Q3. What is the partitioning of variance in ANOVA, and why is it important to understand this concept?\n",
    "\n",
    "In ANOVA (Analysis of Variance), the partitioning of variance refers to the division of the total variation observed in the data into different components or sources of variation. These components include the between-group variation, within-group variation, and the total variation.\n",
    "\n",
    "Between-group variation: This component represents the variability in the data that can be attributed to the differences between the groups being compared. It indicates whether there are significant differences in means among the groups.\n",
    "\n",
    "Within-group variation: This component represents the variability in the data that is not explained by the differences between the groups. It reflects the random variation or noise within each group.\n",
    "\n",
    "Total variation: This is the overall variability in the data, which is the sum of the between-group and within-group variation."
   ]
  },
  {
   "attachments": {},
   "cell_type": "markdown",
   "metadata": {},
   "source": [
    "Q4. How would you calculate the total sum of squares (SST), explained sum of squares (SSE), and residual\n",
    "sum of squares (SSR) in a one-way ANOVA using Python?\n"
   ]
  },
  {
   "cell_type": "code",
   "execution_count": null,
   "metadata": {},
   "outputs": [],
   "source": [
    "import numpy as np\n",
    "import statsmodels.api as sm\n",
    "from statsmodels.formula.api import ols\n",
    "\n",
    "# Define the data and groups\n",
    "data = np.array([10, 12, 14, 8, 9, 11, 13, 7, 8, 12, 11, 10])\n",
    "groups = np.array(['A', 'A', 'A', 'B', 'B', 'B', 'C', 'C', 'C', 'C', 'C', 'C'])\n",
    "\n",
    "# Create a DataFrame\n",
    "df = pd.DataFrame({'data': data, 'groups': groups})\n",
    "\n",
    "# Fit the ANOVA model\n",
    "model = ols('data ~ groups', data=df).fit()\n",
    "anova_table = sm.stats.anova_lm(model)\n",
    "\n",
    "# Calculate SST, SSE, and SSR\n",
    "SST = np.sum((df['data'] - np.mean(df['data'])) ** 2)\n",
    "SSE = np.sum(anova_table['sum_sq'][:-1])\n",
    "SSR = np.sum(anova_table['sum_sq'][-1])\n",
    "\n",
    "print(\"SST:\", SST)\n",
    "print(\"SSE:\", SSE)\n",
    "print(\"SSR:\", SSR)\n"
   ]
  },
  {
   "attachments": {},
   "cell_type": "markdown",
   "metadata": {},
   "source": [
    "Q5. In a two-way ANOVA, how would you calculate the main effects and interaction effects using Python?"
   ]
  },
  {
   "cell_type": "code",
   "execution_count": null,
   "metadata": {},
   "outputs": [],
   "source": [
    "import statsmodels.api as sm\n",
    "from statsmodels.formula.api import ols\n",
    "\n",
    "data = {\n",
    "    'factor_A': ['A1', 'A1', 'A2', 'A2', 'A1', 'A1', 'A2', 'A2'],\n",
    "    'factor_B': ['B1', 'B2', 'B1', 'B2', 'B2', 'B1', 'B2', 'B1'],\n",
    "    'response_variable': [10, 15, 20, 25, 30, 35, 40, 45]\n",
    "}\n",
    "\n",
    "df = pd.DataFrame(data)\n",
    "\n",
    "# Create the model with main effects and interaction term\n",
    "model = ols('dependent_var ~ factorA + factorB + factorA:factorB', data=df).fit()\n",
    "\n",
    "# Perform ANOVA\n",
    "anova_table = sm.stats.anova_lm(model)\n",
    "\n",
    "# Extract the main effects and interaction effects\n",
    "main_effects = anova_table['sum_sq'][:2]  # Assumes 'factorA' and 'factorB' are the first two variables\n",
    "interaction_effect = anova_table['sum_sq'][2]\n",
    "\n",
    "# Print the results\n",
    "print(\"Main Effects:\")\n",
    "print(main_effects)\n",
    "print(\"Interaction Effect:\")\n",
    "print(interaction_effect)\n"
   ]
  },
  {
   "attachments": {},
   "cell_type": "markdown",
   "metadata": {},
   "source": [
    "Q6. Suppose you conducted a one-way ANOVA and obtained an F-statistic of 5.23 and a p-value of 0.02.\n",
    "What can you conclude about the differences between the groups, and how would you interpret these\n",
    "results?\n",
    "\n",
    "In this specific case, with an F-statistic of 5.23 and a p-value of 0.02, we can conclude that there are statistically significant differences between the groups. The F-statistic measures the ratio of between-group variability to within-group variability. A larger F-statistic indicates larger differences between the group means relative to the variability within each group.\n",
    "\n",
    "The p-value of 0.02 indicates the probability of observing such extreme or more extreme results under the assumption of no differences between the groups (null hypothesis). A p-value below the chosen significance level (typically 0.05) suggests that the observed differences are unlikely to have occurred by chance alone. Thus, we reject the null hypothesis and conclude that there are significant differences between the groups."
   ]
  },
  {
   "attachments": {},
   "cell_type": "markdown",
   "metadata": {},
   "source": [
    "Q7. In a repeated measures ANOVA, how would you handle missing data, and what are the potential\n",
    "consequences of using different methods to handle missing data?\n",
    "\n",
    "Complete Case Analysis (CCA): This method involves excluding cases with missing data from the analysis. The analysis is then conducted only on the available complete cases. The consequence of CCA is a potential loss of statistical power and bias if the missing data is not completely at random (MCAR). The results may only represent a subset of the original sample and may not accurately reflect the population.\n",
    "\n",
    "Pairwise Deletion: With pairwise deletion, missing data are excluded on a variable-by-variable basis. Each variable is analyzed separately, and cases with missing data on that specific variable are omitted from the analysis for that variable only. This approach maximizes the available data for each variable, but it can lead to biased estimates if the missingness is related to the outcome or predictors.\n",
    "\n",
    "Imputation: Imputation involves replacing missing values with estimated values based on certain assumptions or models. Common imputation methods include mean imputation, regression imputation, and multiple imputation. Imputation allows for the use of all available data, preserves sample size, and reduces bias. However, it assumes that the imputation model is correctly specified, which can introduce additional uncertainty into the analysis.\n",
    "\n",
    "The choice of missing data handling method depends on the nature of the missing data and the assumptions made about the missingness mechanism. It is important to carefully consider the potential consequences of different methods, such as bias, loss of power, and incorrect inferences. Researchers should also report the missing data handling approach used and evaluate the robustness of the results by conducting sensitivity analyses using different methods if possible.\n",
    "\n",
    "\n",
    "\n",
    "\n",
    "\n",
    "\n",
    "\n",
    "\n",
    "\n",
    "\n",
    "\n",
    "\n"
   ]
  },
  {
   "attachments": {},
   "cell_type": "markdown",
   "metadata": {},
   "source": [
    "Q8. What are some common post-hoc tests used after ANOVA, and when would you use each one? Provide\n",
    "an example of a situation where a post-hoc test might be necessary.\n",
    "\n",
    "\n",
    "Tukey's HSD: This test is used when you want to compare all possible pairs of group means and determine which pairs are significantly different from each other. It is appropriate when you have a moderate to large sample size and want to control the familywise error rate.\n",
    "\n",
    "Bonferroni correction: This method adjusts the significance level for each individual comparison to maintain the desired overall significance level. It is more conservative than other post-hoc tests and is suitable when you have a small sample size or want to control the familywise error rate more strictly.\n",
    "\n",
    "Scheffe's method: This test is used when you have specific planned comparisons or complex contrasts to examine. It provides simultaneous confidence intervals for all possible linear combinations of means. It is less powerful than Tukey's HSD or Bonferroni correction but is more flexible in terms of the comparisons it allows.\n",
    "\n",
    "Fisher's LSD: This test is a less stringent post-hoc test that can be used when you have conducted an ANOVA and want to compare two groups at a time. It is less conservative than other post-hoc tests and is typically used when you have a small sample size or exploratory analyses."
   ]
  },
  {
   "attachments": {},
   "cell_type": "markdown",
   "metadata": {},
   "source": [
    "Q9. A researcher wants to compare the mean weight loss of three diets: A, B, and C. They collect data from\n",
    "50 participants who were randomly assigned to one of the diets. Conduct a one-way ANOVA using Python\n",
    "to determine if there are any significant differences between the mean weight loss of the three diets.\n",
    "Report the F-statistic and p-value, and interpret the results.\n"
   ]
  },
  {
   "cell_type": "code",
   "execution_count": 15,
   "metadata": {},
   "outputs": [
    {
     "name": "stdout",
     "output_type": "stream",
     "text": [
      "F-statistic: nan\n",
      "p-value: nan\n"
     ]
    }
   ],
   "source": [
    "import pandas as pd\n",
    "import scipy.stats as stats\n",
    "\n",
    "# Create a DataFrame with the weight loss data for each diet\n",
    "data = pd.DataFrame({\n",
    "    'Diet': ['A', 'B', 'C'],\n",
    "    'WeightLoss': [4.2, 3.8, 5.1]  # Replace with your actual data\n",
    "})\n",
    "\n",
    "# Perform the one-way ANOVA\n",
    "f_statistic, p_value = stats.f_oneway(data[data['Diet'] == 'A']['WeightLoss'],\n",
    "                                      data[data['Diet'] == 'B']['WeightLoss'],\n",
    "                                      data[data['Diet'] == 'C']['WeightLoss'])\n",
    "\n",
    "# Print the F-statistic and p-value\n",
    "print(\"F-statistic:\", f_statistic)\n",
    "print(\"p-value:\", p_value)\n",
    "\n"
   ]
  },
  {
   "attachments": {},
   "cell_type": "markdown",
   "metadata": {},
   "source": [
    "Q10. A company wants to know if there are any significant differences in the average time it takes to\n",
    "complete a task using three different software programs: Program A, Program B, and Program C. They\n",
    "randomly assign 30 employees to one of the programs and record the time it takes each employee to\n",
    "complete the task. Conduct a two-way ANOVA using Python to determine if there are any main effects or\n",
    "interaction effects between the software programs and employee experience level (novice vs.\n",
    "experienced). Report the F-statistics and p-values, and interpret the results."
   ]
  },
  {
   "cell_type": "code",
   "execution_count": null,
   "metadata": {},
   "outputs": [],
   "source": [
    "import pandas as pd\n",
    "import statsmodels.api as sm\n",
    "from statsmodels.formula.api import ols\n",
    "\n",
    "# Create a DataFrame with the task completion time data, software programs, and employee experience level\n",
    "data = pd.DataFrame({\n",
    "    'Time': [15.2, 13.5, 14.7, 17.2, 16.5, 15.8, 12.3, 14.9, 13.7, 12.1, 14.5, 16.7, 18.3, 17.1, 15.6, \n",
    "             12.8, 13.9, 13.2, 11.5, 12.6, 14.2, 14.8, 16.4, 18.5, 17.9, 16.1, 15.3, 14.4, 13.8, 12.7],\n",
    "    'Program': ['A', 'A', 'A', 'B', 'B', 'B', 'C', 'C', 'C', 'A', 'A', 'A', 'B', 'B', 'B', 'C', 'C', 'C', \n",
    "                'A', 'A', 'A', 'B', 'B', 'B', 'C', 'C', 'C', 'A', 'A', 'A'],\n",
    "    'Experience': ['Novice', 'Novice', 'Novice', 'Novice', 'Novice', 'Novice', 'Novice', 'Novice', 'Novice', \n",
    "                   'Experienced', 'Experienced', 'Experienced', 'Experienced', 'Experienced', 'Experienced', \n",
    "                   'Experienced', 'Experienced', 'Experienced', 'Novice', 'Novice', 'Novice', 'Novice', 'Novice', \n",
    "                   'Novice', 'Novice', 'Novice', 'Novice', 'Experienced', 'Experienced', 'Experienced']\n",
    "})\n",
    "\n",
    "# Create the ANOVA model\n",
    "model = ols('Time ~ Program + Experience + Program:Experience', data=data).fit()\n",
    "\n",
    "# Perform the two-way ANOVA\n",
    "anova_table = sm.stats.anova_lm(model, typ=2)\n",
    "print(anova_table)\n"
   ]
  },
  {
   "attachments": {},
   "cell_type": "markdown",
   "metadata": {},
   "source": [
    "Q11. An educational researcher is interested in whether a new teaching method improves student test\n",
    "scores. They randomly assign 100 students to either the control group (traditional teaching method) or the\n",
    "experimental group (new teaching method) and administer a test at the end of the semester. Conduct a\n",
    "two-sample t-test using Python to determine if there are any significant differences in test scores\n",
    "between the two groups. If the results are significant, follow up with a post-hoc test to determine which\n",
    "group(s) differ significantly from each other."
   ]
  },
  {
   "cell_type": "code",
   "execution_count": 19,
   "metadata": {},
   "outputs": [
    {
     "name": "stdout",
     "output_type": "stream",
     "text": [
      "Two-Sample t-test Results:\n",
      "t-statistic: -5.960395606792696\n",
      "p-value: 1.2223421948515849e-05\n",
      "\n",
      "Post-Hoc Test (Tukey's HSD):\n",
      "   Multiple Comparison of Means - Tukey HSD, FWER=0.05   \n",
      "=========================================================\n",
      " group1    group2    meandiff p-adj lower   upper  reject\n",
      "---------------------------------------------------------\n",
      "Control Experimental      7.5   0.0 4.8564 10.1436   True\n",
      "---------------------------------------------------------\n"
     ]
    }
   ],
   "source": [
    "import numpy as np\n",
    "from scipy.stats import ttest_ind\n",
    "\n",
    "# Test scores for the control and experimental groups\n",
    "control_scores = np.array([80, 85, 78, 82, 79, 83, 77, 81, 84, 76])\n",
    "experimental_scores = np.array([88, 92, 85, 90, 87, 89, 84, 91, 86, 88])\n",
    "\n",
    "# Perform the two-sample t-test\n",
    "t_statistic, p_value = ttest_ind(control_scores, experimental_scores)\n",
    "\n",
    "# Print the results\n",
    "print(\"Two-Sample t-test Results:\")\n",
    "print(\"t-statistic:\", t_statistic)\n",
    "print(\"p-value:\", p_value)\n",
    "\n",
    "# Perform a post-hoc test (e.g., Tukey's HSD) if the results are significant\n",
    "if p_value < 0.05:\n",
    "    from statsmodels.stats.multicomp import pairwise_tukeyhsd\n",
    "    \n",
    "    # Combine the scores from both groups\n",
    "    all_scores = np.concatenate((control_scores, experimental_scores))\n",
    "    \n",
    "    # Create a grouping variable\n",
    "    groups = np.array([\"Control\"] * len(control_scores) + [\"Experimental\"] * len(experimental_scores))\n",
    "\n",
    "    # Perform the post-hoc test\n",
    "    posthoc = pairwise_tukeyhsd(all_scores, groups)\n",
    "    print(\"\\nPost-Hoc Test (Tukey's HSD):\")\n",
    "    print(posthoc)\n"
   ]
  },
  {
   "attachments": {},
   "cell_type": "markdown",
   "metadata": {},
   "source": [
    "Q12. A researcher wants to know if there are any significant differences in the average daily sales of three\n",
    "retail stores: Store A, Store B, and Store C. They randomly select 30 days and record the sales for each store\n",
    "on those days. Conduct a repeated measures ANOVA using Python to determine if there are any\n",
    "\n",
    "significant differences in sales between the three stores. If the results are significant, follow up with a post-\n",
    "hoc test to determine which store(s) differ significantly from each other."
   ]
  },
  {
   "cell_type": "code",
   "execution_count": null,
   "metadata": {},
   "outputs": [],
   "source": [
    "import pandas as pd\n",
    "import statsmodels.api as sm\n",
    "from statsmodels.formula.api import ols\n",
    "from statsmodels.stats.multicomp import pairwise_tukeyhsd\n",
    "\n",
    "# Create a DataFrame with the sales data\n",
    "data = pd.DataFrame({\n",
    "    'Store': ['A', 'B', 'C'],\n",
    "    'Day1': [100, 120, 90],\n",
    "    'Day2': [110, 130, 95],\n",
    "    'Day3': [115, 125, 100],\n",
    "    # ... Add data for remaining days\n",
    "})\n",
    "\n",
    "# Reshape the data into long format\n",
    "data_long = pd.melt(data, id_vars='Store', var_name='Day', value_name='Sales')\n",
    "\n",
    "# Perform the repeated measures ANOVA\n",
    "model = ols('Sales ~ C(Store)', data=data_long).fit()\n",
    "anova_table = sm.stats.anova_lm(model, typ=2)\n",
    "\n",
    "# Print the ANOVA results\n",
    "print(anova_table)\n",
    "\n",
    "# Perform post-hoc test (Tukey's HSD)\n",
    "posthoc = pairwise_tukeyhsd(data_long['Sales'], data_long['Store'])\n",
    "print(posthoc.summary())\n"
   ]
  }
 ],
 "metadata": {
  "kernelspec": {
   "display_name": "Python 3",
   "language": "python",
   "name": "python3"
  },
  "language_info": {
   "codemirror_mode": {
    "name": "ipython",
    "version": 3
   },
   "file_extension": ".py",
   "mimetype": "text/x-python",
   "name": "python",
   "nbconvert_exporter": "python",
   "pygments_lexer": "ipython3",
   "version": "3.10.2"
  },
  "orig_nbformat": 4
 },
 "nbformat": 4,
 "nbformat_minor": 2
}
