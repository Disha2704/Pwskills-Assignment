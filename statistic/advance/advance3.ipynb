{
 "cells": [
  {
   "attachments": {},
   "cell_type": "markdown",
   "metadata": {},
   "source": [
    "Q1: What is Estimation Statistics? Explain point estimate and interval estimate.\n",
    "\n",
    "\n",
    "Estimation statistics involves the process of estimating unknown population parameters based on sample data. It allows us to make inferences and draw conclusions about the population using information gathered from a representative sample.\n",
    "\n",
    "Point Estimate:\n",
    "A point estimate is a single value that serves as an estimate or best guess of an unknown population parameter. It is calculated using sample data and is used to approximate the true value of the parameter. For example, if we want to estimate the population mean, the sample mean would serve as a point estimate. Point estimates provide a single value but do not provide information about the uncertainty or variability of the estimate.\n",
    "\n",
    "Interval Estimate:\n",
    "An interval estimate provides a range of values within which the true population parameter is likely to lie. It takes into account the variability in the data and provides a measure of uncertainty around the estimate. An interval estimate consists of two components: an estimate (point estimate) and a confidence level. The confidence level represents the degree of confidence we have in capturing the true population parameter within the interval. Commonly used confidence levels are 90%, 95%, and 99%."
   ]
  },
  {
   "attachments": {},
   "cell_type": "markdown",
   "metadata": {},
   "source": [
    "Q2. Write a Python function to estimate the population mean using a sample mean and standarddeviation.\n"
   ]
  },
  {
   "cell_type": "code",
   "execution_count": 1,
   "metadata": {},
   "outputs": [],
   "source": [
    "def  population_mean(lst):\n",
    "    sum=0\n",
    "    for i in lst:\n",
    "        sum=sum+i\n",
    "\n",
    "    mean=sum/len(lst)\n",
    "    return mean\n",
    "\n",
    "\n"
   ]
  },
  {
   "attachments": {},
   "cell_type": "markdown",
   "metadata": {},
   "source": [
    "\n",
    "Q3: What is Hypothesis testing? Why is it used? State the importance of Hypothesis testing.\n",
    "\n",
    "\n",
    "Hypothesis testing is a statistical method used to make decisions or draw conclusions about a population based on sample data. It involves formulating two competing hypotheses, the null hypothesis (H0) and the alternative hypothesis (Ha), and using statistical techniques to evaluate the evidence against the null hypothesis.\n",
    "\n",
    "The primary purpose of hypothesis testing is to assess whether the observed data provide enough evidence to support or reject a claim or hypothesis about a population parameter. It allows researchers and analysts to make data-driven decisions and draw meaningful conclusions."
   ]
  },
  {
   "attachments": {},
   "cell_type": "markdown",
   "metadata": {},
   "source": [
    "\n",
    "Q4. Create a hypothesis that states whether the average weight of male college students is greater than\n",
    "the average weight of female college students.\n",
    "\n",
    "Null Hypothesis (H0): The average weight of male college students is not greater than the average weight of female college students.\n",
    "Alternative Hypothesis (Ha): The average weight of male college students is greater than the average weight of female college students.\n",
    "\n",
    "Symbolically:\n",
    "H0: μ_male ≤ μ_female\n",
    "Ha: μ_male > μ_female\n",
    "\n",
    "In words:\n",
    "Null Hypothesis (H0): The population mean weight of male college students is less than or equal to the population mean weight of female college students.\n",
    "Alternative Hypothesis (Ha): The population mean weight of male college students is greater than the population mean weight of female college students."
   ]
  },
  {
   "attachments": {},
   "cell_type": "markdown",
   "metadata": {},
   "source": [
    "\n",
    "Q5. Write a Python script to conduct a hypothesis test on the difference between two population means,\n",
    "given a sample from each population.\n"
   ]
  },
  {
   "cell_type": "code",
   "execution_count": 2,
   "metadata": {},
   "outputs": [
    {
     "name": "stdout",
     "output_type": "stream",
     "text": [
      "t-statistic: -7.5916898669146216\n",
      "p-value: 1.21622748679989e-12\n",
      "Reject the null hypothesis. There is a significant difference between the population means.\n"
     ]
    }
   ],
   "source": [
    "import numpy as np\n",
    "from scipy import stats\n",
    "\n",
    "# Generate two random samples from the populations\n",
    "sample1 = np.random.normal(loc=10, scale=2, size=100)  # Sample from population 1\n",
    "sample2 = np.random.normal(loc=12, scale=2, size=100)  # Sample from population 2\n",
    "\n",
    "# Perform a two-sample t-test\n",
    "t_statistic, p_value = stats.ttest_ind(sample1, sample2)\n",
    "\n",
    "# Define the significance level (alpha)\n",
    "alpha = 0.05\n",
    "\n",
    "# Print the results\n",
    "print(\"t-statistic:\", t_statistic)\n",
    "print(\"p-value:\", p_value)\n",
    "\n",
    "# Compare the p-value with the significance level to make a decision\n",
    "if p_value < alpha:\n",
    "    print(\"Reject the null hypothesis. There is a significant difference between the population means.\")\n",
    "else:\n",
    "    print(\"Fail to reject the null hypothesis. There is no significant difference between the population means.\")\n"
   ]
  },
  {
   "attachments": {},
   "cell_type": "markdown",
   "metadata": {},
   "source": [
    "Q6: What is a null and alternative hypothesis? Give some examples.\n",
    "\n",
    "In hypothesis testing, the null hypothesis (H0) and alternative hypothesis (Ha or H1) are two competing statements that express different claims or hypotheses about a population parameter or a relationship between variables. These hypotheses are used to assess the evidence in favor or against a particular claim based on sample data.\n",
    "\n",
    "The Null Hypothesis (H0):\n",
    "The null hypothesis is a statement of no effect, no difference, or no relationship. It assumes that any observed difference or effect is due to random chance or sampling variability. In other words, it represents the absence of the phenomenon or effect being studied. It is typically denoted as H0.\n",
    "\n",
    "Examples of null hypotheses:\n",
    "\n",
    "The average test score of students in two different schools is the same.\n",
    "There is no difference in the effectiveness of two different medications in treating a particular condition.\n",
    "The mean time taken to complete a task using two different methods is equal.\n",
    "The Alternative Hypothesis (Ha or H1):\n",
    "The alternative hypothesis is a statement that contradicts or opposes the null hypothesis. It represents the claim or hypothesis that researchers or analysts are interested in proving. It suggests that there is a genuine effect, difference, or relationship present in the population. It can take different forms depending on the nature of the research question or hypothesis. It is denoted as Ha or H1.\n",
    "\n",
    "Examples of alternative hypotheses:\n",
    "\n",
    "The average test score of students in one school is higher than the average test score of students in another school.\n",
    "The medication A is more effective in treating a particular condition compared to medication B.\n",
    "The mean time taken to complete a task using method A is less than the mean time taken using method B."
   ]
  },
  {
   "attachments": {},
   "cell_type": "markdown",
   "metadata": {},
   "source": [
    "Q7: Write down the steps involved in hypothesis testing.\n",
    "\n",
    "Hypothesis testing involves a series of steps to evaluate the evidence against a null hypothesis and make a decision. Here are the general steps involved in hypothesis testing:\n",
    "\n",
    "State the Null and Alternative Hypotheses:\n",
    "\n",
    "Define the null hypothesis (H0) that represents the absence of the effect or relationship being studied.\n",
    "Define the alternative hypothesis (Ha or H1) that contradicts or opposes the null hypothesis and represents the claim or effect of interest.\n",
    "Determine the Significance Level (α):\n",
    "\n",
    "Set the desired level of significance (α), which represents the maximum probability of committing a Type I error (rejecting the null hypothesis when it is true).\n",
    "Commonly used significance levels are 0.05 (5%) or 0.01 (1%).\n",
    "Select the Appropriate Test Statistic:\n",
    "\n",
    "Based on the research question, type of data, and the hypotheses, choose the appropriate statistical test.\n",
    "Common tests include t-tests, chi-square tests, ANOVA, correlation tests, etc.\n",
    "Collect and Analyze the Sample Data:\n",
    "\n",
    "Collect a representative sample from the population of interest.\n",
    "Perform appropriate statistical analysis on the sample data to calculate test statistics and obtain relevant summary statistics.\n",
    "Calculate the Test Statistic:\n",
    "\n",
    "Calculate the test statistic based on the chosen statistical test and the sample data.\n",
    "The test statistic quantifies the difference or relationship between the sample data and the null hypothesis.\n",
    "Determine the Critical Region and p-value:\n",
    "\n",
    "Determine the critical region (rejection region) based on the significance level (α) and the distribution of the test statistic.\n",
    "Calculate the p-value, which represents the probability of obtaining a test statistic as extreme as or more extreme than the observed value, assuming the null hypothesis is true.\n",
    "Make a Decision:\n",
    "\n",
    "Compare the calculated test statistic with the critical value(s) or compare the p-value with the significance level (α).\n",
    "If the test statistic falls in the critical region or the p-value is less than the significance level, reject the null hypothesis in favor of the alternative hypothesis.\n",
    "If the test statistic does not fall in the critical region or the p-value is greater than or equal to the significance level, fail to reject the null hypothesis.\n"
   ]
  },
  {
   "attachments": {},
   "cell_type": "markdown",
   "metadata": {},
   "source": [
    "Q8. Define p-value and explain its significance in hypothesis testing.\n",
    "\n",
    "The p-value is a probability value that measures the strength of evidence against the null hypothesis in hypothesis testing. It quantifies the likelihood of obtaining the observed data, or more extreme data, under the assumption that the null hypothesis is true.\n",
    "\n",
    "The p-value is a probability value that measures the strength of evidence against the null hypothesis in hypothesis testing. It quantifies the likelihood of obtaining the observed data, or more extreme data, under the assumption that the null hypothesis is true."
   ]
  },
  {
   "attachments": {},
   "cell_type": "markdown",
   "metadata": {},
   "source": [
    "Q9. Generate a Student's t-distribution plot using Python's matplotlib library, with the degrees of freedom\n",
    "parameter set to 10.\n"
   ]
  },
  {
   "cell_type": "code",
   "execution_count": 13,
   "metadata": {},
   "outputs": [
    {
     "data": {
      "image/png": "[encoded data removed]",
      "text/plain": [
       "<Figure size 432x288 with 1 Axes>"
      ]
     },
     "metadata": {
      "needs_background": "light"
     },
     "output_type": "display_data"
    }
   ],
   "source": [
    "import numpy as np\n",
    "import matplotlib.pyplot as plt\n",
    "from scipy.stats import t\n",
    "\n",
    "# Set the degrees of freedom\n",
    "df = 1000\n",
    "\n",
    "# Generate x values for the plot\n",
    "x = np.linspace(-5, 5, 100)\n",
    "\n",
    "# Calculate the probability density function (PDF) of the t-distribution\n",
    "pdf = t.pdf(x, df)\n",
    "\n",
    "# Plot the t-distribution\n",
    "plt.plot(x, pdf, label=f\"df = {df}\")\n",
    "plt.title(\"Student's t-Distribution\")\n",
    "plt.xlabel(\"x\")\n",
    "plt.ylabel(\"Probability Density Function (PDF)\")\n",
    "plt.legend()\n",
    "# plt.grid(True)\n",
    "plt.show()\n"
   ]
  },
  {
   "attachments": {},
   "cell_type": "markdown",
   "metadata": {},
   "source": [
    "\n",
    "Q10. Write a Python program to calculate the two-sample t-test for independent samples, given two\n",
    "random samples of equal size and a null hypothesis that the population means are equal.\n"
   ]
  },
  {
   "cell_type": "code",
   "execution_count": 28,
   "metadata": {},
   "outputs": [
    {
     "name": "stdout",
     "output_type": "stream",
     "text": [
      "Two-Sample T-Test Results:\n",
      "T-Statistic: 0.38316220678560114\n",
      "P-Value: 0.7020105529359866\n"
     ]
    }
   ],
   "source": [
    "import numpy as np\n",
    "from scipy.stats import ttest_ind\n",
    "\n",
    "# Generate two random samples of equal size\n",
    "sample1 = np.random.normal(loc=0, scale=1, size=100)\n",
    "sample2 = np.random.normal(loc=0, scale=1, size=100)\n",
    "\n",
    "# Perform the two-sample t-test\n",
    "t_statistic, p_value = ttest_ind(sample1, sample2)\n",
    "\n",
    "# Print the results\n",
    "print(\"Two-Sample T-Test Results:\")\n",
    "print(f\"T-Statistic: {t_statistic}\")\n",
    "print(f\"P-Value: {p_value}\")\n"
   ]
  },
  {
   "attachments": {},
   "cell_type": "markdown",
   "metadata": {},
   "source": [
    "Q11: What is Student’s t distribution? When to use the t-Distribution.\n",
    "\n",
    "Student's t-distribution, also known as the t-distribution, is a probability distribution that is used in statistical inference when the sample size is small or when the population standard deviation is unknown. It is a variation of the normal distribution but has heavier tails, which means it allows for more variability in the data."
   ]
  },
  {
   "attachments": {},
   "cell_type": "markdown",
   "metadata": {},
   "source": [
    "Q12: What is t-statistic? State the formula for t-statistic.\n",
    "\n",
    "The t-statistic is a measure that is used in hypothesis testing to assess the strength of evidence against the null hypothesis. It quantifies the difference between sample means or sample proportions and compares it to the expected difference under the null hypothesis."
   ]
  },
  {
   "attachments": {},
   "cell_type": "markdown",
   "metadata": {},
   "source": [
    "\n",
    "Q13. A coffee shop owner wants to estimate the average daily revenue for their shop. They take a random\n",
    "sample of 50 days and find the sample mean revenue to be $500 with a standard deviation of $50.\n",
    "Estimate the population mean revenue with a 95% confidence interval.\n"
   ]
  },
  {
   "cell_type": "code",
   "execution_count": 30,
   "metadata": {},
   "outputs": [
    {
     "data": {
      "text/plain": [
       "(486.1409617565032, 513.8590382434968)"
      ]
     },
     "execution_count": 30,
     "metadata": {},
     "output_type": "execute_result"
    }
   ],
   "source": [
    "from scipy.stats import norm\n",
    "\n",
    "def mean_population(sample_size,standard_deviation,mean,confidence_level):\n",
    "    def standard_error():\n",
    "        return standard_deviation/(sample_size)**(1/2)\n",
    "    \n",
    "    confidence_level=confidence_level/100\n",
    "    alpha = 1 - confidence_level\n",
    "    critical_value = norm.ppf(1 - alpha/2)\n",
    "\n",
    "    lower_bound=mean -(critical_value*standard_error())\n",
    "    uper_bound=mean + (critical_value*standard_error())\n",
    "\n",
    "    return lower_bound,uper_bound\n",
    "\n",
    "mean_population(50,50,500,95)"
   ]
  },
  {
   "attachments": {},
   "cell_type": "markdown",
   "metadata": {},
   "source": [
    "\n",
    "Q14. A researcher hypothesizes that a new drug will decrease blood pressure by 10 mmHg. They conduct a clinical trial with 100 patients and find that the sample mean decrease in blood pressure is 8 mmHg with a standard deviation of 3 mmHg. Test the hypothesis with a significance level of 0.05.\n"
   ]
  },
  {
   "cell_type": "code",
   "execution_count": 32,
   "metadata": {},
   "outputs": [
    {
     "name": "stdout",
     "output_type": "stream",
     "text": [
      "Test Statistic: -6.666666666666667\n",
      "Critical Value: 1.9842169515086827\n",
      "Conclusion: Reject the null hypothesis.\n"
     ]
    }
   ],
   "source": [
    "import numpy as np\n",
    "from scipy.stats import t\n",
    "\n",
    "# Given data\n",
    "sample_mean = 8\n",
    "population_mean = 10\n",
    "sample_size = 100\n",
    "sample_std = 3\n",
    "\n",
    "# Calculate the standard error\n",
    "standard_error = sample_std / np.sqrt(sample_size)\n",
    "\n",
    "# Calculate the test statistic\n",
    "t_statistic = (sample_mean - population_mean) / standard_error\n",
    "\n",
    "# Calculate the critical t-value for a two-tailed test\n",
    "alpha = 0.05\n",
    "df = sample_size - 1\n",
    "critical_value = t.ppf(1 - alpha/2, df)\n",
    "\n",
    "# Compare the test statistic with the critical value\n",
    "if np.abs(t_statistic) > critical_value:\n",
    "    conclusion = \"Reject the null hypothesis.\"\n",
    "else:\n",
    "    conclusion = \"accept null hypothesis\"\n",
    "# Print the results\n",
    "print(\"Test Statistic:\", t_statistic)\n",
    "print(\"Critical Value:\", critical_value)\n",
    "print(\"Conclusion:\", conclusion)\n",
    "\n"
   ]
  },
  {
   "attachments": {},
   "cell_type": "markdown",
   "metadata": {},
   "source": [
    "Q15. An electronics company produces a certain type of product with a mean weight of 5 pounds and a standard deviation of 0.5 pounds. A random sample of 25 products is taken, and the sample mean weight is found to be 4.8 pounds. Test the hypothesis that the true mean weight of the products is less than 5\n",
    "pounds with a significance level of 0.01.\n"
   ]
  },
  {
   "cell_type": "code",
   "execution_count": 33,
   "metadata": {},
   "outputs": [
    {
     "name": "stdout",
     "output_type": "stream",
     "text": [
      "Test Statistic: -2.0000000000000018\n",
      "Critical Value: 2.796939504772804\n",
      "Conclusion: accept null hypothesis\n"
     ]
    }
   ],
   "source": [
    "import numpy as np\n",
    "from scipy.stats import t\n",
    "\n",
    "# Given data\n",
    "sample_mean = 4.8\n",
    "population_mean = 5\n",
    "sample_size = 25\n",
    "sample_std = 0.5\n",
    "\n",
    "# Calculate the standard error\n",
    "standard_error = sample_std / np.sqrt(sample_size)\n",
    "\n",
    "# Calculate the test statistic\n",
    "t_statistic = (sample_mean - population_mean) / standard_error\n",
    "\n",
    "# Calculate the critical t-value for a two-tailed test\n",
    "alpha = 0.01\n",
    "df = sample_size - 1\n",
    "critical_value = t.ppf(1 - alpha/2, df)\n",
    "\n",
    "# Compare the test statistic with the critical value\n",
    "if np.abs(t_statistic) > critical_value:\n",
    "    conclusion = \"Reject the null hypothesis.\"\n",
    "else:\n",
    "    conclusion = \"accept null hypothesis\"\n",
    "# Print the results\n",
    "print(\"Test Statistic:\", t_statistic)\n",
    "print(\"Critical Value:\", critical_value)\n",
    "print(\"Conclusion:\", conclusion)"
   ]
  },
  {
   "attachments": {},
   "cell_type": "markdown",
   "metadata": {},
   "source": [
    "Q16. Two groups of students are given different study materials to prepare for a test. The first group (n1 =30) has a mean score of 80 with a standard deviation of 10, and the second group (n2 = 40) has a mean score of 75 with a standard deviation of 8. Test the hypothesis that the population means for the two\n",
    "groups are equal with a significance level of 0.01.\n"
   ]
  },
  {
   "cell_type": "code",
   "execution_count": 36,
   "metadata": {},
   "outputs": [
    {
     "name": "stdout",
     "output_type": "stream",
     "text": [
      "Fail to reject the null hypothesis. There is no significant difference in population means.\n"
     ]
    }
   ],
   "source": [
    "import scipy.stats as stats\n",
    "\n",
    "# Group 1 data\n",
    "n1 = 30\n",
    "mean1 = 80\n",
    "std_dev1 = 10\n",
    "\n",
    "# Group 2 data\n",
    "n2 = 40\n",
    "mean2 = 75\n",
    "std_dev2 = 8\n",
    "\n",
    "# Calculate the t-statistic and p-value\n",
    "t_statistic, p_value = stats.ttest_ind_from_stats(mean1, std_dev1, n1, mean2, std_dev2, n2)\n",
    "\n",
    "# Compare the p-value with the significance level\n",
    "alpha = 0.01\n",
    "if p_value < alpha:\n",
    "    print(\"Reject the null hypothesis. There is evidence of a significant difference in population means.\")\n",
    "else:\n",
    "    print(\"Fail to reject the null hypothesis. There is no significant difference in population means.\")\n"
   ]
  },
  {
   "attachments": {},
   "cell_type": "markdown",
   "metadata": {},
   "source": [
    "Q17. A marketing company wants to estimate the average number of ads watched by viewers during a TV\n",
    "program. They take a random sample of 50 viewers and find that the sample mean is 4 with a standard\n",
    "deviation of 1.5. Estimate the population mean with a 99% confidence interval."
   ]
  },
  {
   "cell_type": "code",
   "execution_count": 37,
   "metadata": {},
   "outputs": [
    {
     "name": "stdout",
     "output_type": "stream",
     "text": [
      "Population mean estimate: 4.00\n",
      "99% Confidence Interval: [3.43, 4.57]\n"
     ]
    }
   ],
   "source": [
    "import scipy.stats as stats\n",
    "\n",
    "# Sample data\n",
    "sample_size = 50\n",
    "sample_mean = 4\n",
    "sample_std_dev = 1.5\n",
    "\n",
    "# Calculate the critical value (t-score) for a 99% confidence level\n",
    "confidence_level = 0.99\n",
    "degrees_of_freedom = sample_size - 1\n",
    "critical_value = stats.t.ppf((1 + confidence_level) / 2, df=degrees_of_freedom)\n",
    "\n",
    "# Calculate the margin of error\n",
    "margin_of_error = critical_value * (sample_std_dev / (sample_size ** 0.5))\n",
    "\n",
    "# Calculate the lower and upper bounds of the confidence interval\n",
    "lower_bound = sample_mean - margin_of_error\n",
    "upper_bound = sample_mean + margin_of_error\n",
    "\n",
    "# Print the confidence interval\n",
    "print(\"Population mean estimate: {:.2f}\".format(sample_mean))\n",
    "print(\"99% Confidence Interval: [{:.2f}, {:.2f}]\".format(lower_bound, upper_bound))\n"
   ]
  }
 ],
 "metadata": {
  "kernelspec": {
   "display_name": "Python 3",
   "language": "python",
   "name": "python3"
  },
  "language_info": {
   "codemirror_mode": {
    "name": "ipython",
    "version": 3
   },
   "file_extension": ".py",
   "mimetype": "text/x-python",
   "name": "python",
   "nbconvert_exporter": "python",
   "pygments_lexer": "ipython3",
   "version": "3.10.2"
  },
  "orig_nbformat": 4
 },
 "nbformat": 4,
 "nbformat_minor": 2
}
