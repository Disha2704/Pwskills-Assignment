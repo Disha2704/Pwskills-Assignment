{
 "cells": [
  {
   "attachments": {},
   "cell_type": "markdown",
   "metadata": {},
   "source": [
    "Go to this given URL and solve the following questions\n",
    "URL: https://www.youtube.com/@PW-Foundation/videos\n"
   ]
  },
  {
   "attachments": {},
   "cell_type": "markdown",
   "metadata": {},
   "source": [
    "Q1. Write a python program to extract the video URL of the first five videos.\n",
    "\n"
   ]
  },
  {
   "cell_type": "code",
   "execution_count": 1,
   "metadata": {},
   "outputs": [],
   "source": [
    "\n",
    "import requests\n",
    "from bs4 import BeautifulSoup\n",
    "\n",
    "# specify the URL of the YouTube channel\n",
    "url = 'https://www.youtube.com/@PW-Foundation/videos'\n",
    "\n",
    "# send a request to the URL and get the response\n",
    "response = requests.get(url)\n",
    "\n",
    "# create a Beautiful Soup object from the response content\n",
    "soup = BeautifulSoup(response.content, 'html.parser')\n",
    "\n",
    "# find all the <a> tags with class=\"yt-simple-endpoint style-scope ytd-grid-video-renderer\"\n",
    "video_links = soup.find_all('a', {'class': 'yt-simple-endpoint style-scope ytd-grid-video-renderer'})\n",
    "\n",
    "# extract the video URLs from the <a> tags and print the first five\n",
    "for link in video_links[:5]:\n",
    "    video_url = 'https://www.youtube.com' + link['href']\n",
    "    print(video_url)"
   ]
  },
  {
   "attachments": {},
   "cell_type": "markdown",
   "metadata": {},
   "source": [
    "Q2. Write a python program to extract the URL of the video thumbnails of the first five videos.\n"
   ]
  },
  {
   "cell_type": "code",
   "execution_count": 1,
   "metadata": {},
   "outputs": [
    {
     "name": "stdout",
     "output_type": "stream",
     "text": [
      "Error: No video thumbnails found on page\n"
     ]
    },
    {
     "ename": "",
     "evalue": "",
     "output_type": "error",
     "traceback": [
      "\u001b[1;31mThe Kernel crashed while executing code in the the current cell or a previous cell. Please review the code in the cell(s) to identify a possible cause of the failure. Click <a href='https://aka.ms/vscodeJupyterKernelCrash'>here</a> for more info. View Jupyter <a href='command:jupyter.viewOutput'>log</a> for further details."
     ]
    }
   ],
   "source": [
    "import requests\n",
    "from bs4 import BeautifulSoup\n",
    "\n",
    "# specify the URL of the YouTube channel\n",
    "url = 'https://www.youtube.com/@PW-Foundation/videos'\n",
    "\n",
    "# send a request to the URL and get the response\n",
    "try:\n",
    "    response = requests.get(url)\n",
    "except requests.exceptions.RequestException as e:\n",
    "    print(\"Error:\", e)\n",
    "    exit()\n",
    "\n",
    "# create a Beautiful Soup object from the response content\n",
    "soup = BeautifulSoup(response.content, 'html.parser')\n",
    "\n",
    "# find all the <img> tags with class=\"style-scope yt-img-shadow\" and attribute \"data-thumb\"\n",
    "video_thumbnails = soup.find_all('img', {'class': 'style-scope yt-img-shadow', 'data-thumb': True})\n",
    "\n",
    "if not video_thumbnails:\n",
    "    print(\"Error: No video thumbnails found on page\")\n",
    "    exit()\n",
    "\n",
    "# extract the thumbnail URLs from the <img> tags and print the first five\n",
    "for i, thumbnail in enumerate(video_thumbnails[:5]):\n",
    "    thumbnail_url = thumbnail['data-thumb']\n",
    "    print(f\"Thumbnail {i+1}: {thumbnail_url}\")\n"
   ]
  },
  {
   "attachments": {},
   "cell_type": "markdown",
   "metadata": {},
   "source": [
    "Q3. Write a python program to extract the title of the first five videos.\n"
   ]
  },
  {
   "cell_type": "code",
   "execution_count": 1,
   "metadata": {},
   "outputs": [],
   "source": [
    "import requests\n",
    "from bs4 import BeautifulSoup\n",
    "\n",
    "# Set the URL of the YouTube channel\n",
    "url = 'https://www.youtube.com/@PW-Foundation/videos'\n",
    "\n",
    "# Make a GET request to the URL\n",
    "response = requests.get(url)\n",
    "\n",
    "# Use BeautifulSoup to parse the HTML content of the page\n",
    "soup = BeautifulSoup(response.content, 'html.parser')\n",
    "\n",
    "# Find all the <a> tags with class \"yt-simple-endpoint style-scope ytd-grid-video-renderer\"\n",
    "video_links = soup.find_all('a', class_='yt-simple-endpoint style-scope ytd-grid-video-renderer')\n",
    "\n",
    "# Extract the title of the first five videos\n",
    "for link in video_links[:5]:\n",
    "    title = link.get('title')\n",
    "    print(title)\n"
   ]
  },
  {
   "attachments": {},
   "cell_type": "markdown",
   "metadata": {},
   "source": [
    "Q4. Write a python program to extract the number of views of the first five videos.\n"
   ]
  },
  {
   "cell_type": "code",
   "execution_count": 2,
   "metadata": {},
   "outputs": [],
   "source": [
    "import requests\n",
    "from bs4 import BeautifulSoup\n",
    "\n",
    "# Set the URL of the YouTube channel\n",
    "url = 'https://www.youtube.com/@PW-Foundation/videos'\n",
    "\n",
    "# Make a GET request to the URL\n",
    "response = requests.get(url)\n",
    "\n",
    "# Use BeautifulSoup to parse the HTML content of the page\n",
    "soup = BeautifulSoup(response.content, 'html.parser')\n",
    "\n",
    "# Find all the <a> tags with class \"yt-simple-endpoint style-scope ytd-grid-video-renderer\"\n",
    "video_links = soup.find_all('a', class_='yt-simple-endpoint style-scope ytd-grid-video-renderer')\n",
    "\n",
    "# Extract the number of views of the first five videos\n",
    "for link in video_links[:5]:\n",
    "    # Get the <span> tag with class \"style-scope ytd-grid-video-renderer\" that contains the number of views\n",
    "    views_span = link.find('span', class_='style-scope ytd-grid-video-renderer')\n",
    "    \n",
    "    # Extract the text content of the <span> tag\n",
    "    views_text = views_span.get_text(strip=True)\n",
    "    \n",
    "    # Check if the text contains the word \"views\"\n",
    "    if 'views' in views_text:\n",
    "        # Remove the word \"views\" and any commas or spaces from the text\n",
    "        views_number = views_text.replace('views', '').replace(',', '').strip()\n",
    "        \n",
    "        # Convert the text to an integer and print it\n",
    "        views_int = int(views_number)\n",
    "        print(views_int)\n"
   ]
  },
  {
   "cell_type": "markdown",
   "metadata": {},
   "source": [
    "Q5. Write a python program to extract the time of posting of video for the first five videos."
   ]
  },
  {
   "cell_type": "code",
   "execution_count": 3,
   "metadata": {},
   "outputs": [],
   "source": [
    "import requests\n",
    "from bs4 import BeautifulSoup\n",
    "\n",
    "url = 'https://www.youtube.com/@PW-Foundation/videos'\n",
    "response = requests.get(url)\n",
    "\n",
    "soup = BeautifulSoup(response.content, 'html.parser')\n",
    "\n",
    "video_links = soup.find_all('a', class_='yt-simple-endpoint style-scope ytd-grid-video-renderer')\n",
    "\n",
    "for link in video_links[:5]:\n",
    "    video_url = 'https://www.youtube.com' + link['href']\n",
    "    video_response = requests.get(video_url)\n",
    "    video_soup = BeautifulSoup(video_response.content, 'html.parser')\n",
    "    post_time = video_soup.find('div', class_='watch-time-text').text.strip()\n",
    "    print(post_time)\n"
   ]
  }
 ],
 "metadata": {
  "kernelspec": {
   "display_name": "Python 3",
   "language": "python",
   "name": "python3"
  },
  "language_info": {
   "codemirror_mode": {
    "name": "ipython",
    "version": 3
   },
   "file_extension": ".py",
   "mimetype": "text/x-python",
   "name": "python",
   "nbconvert_exporter": "python",
   "pygments_lexer": "ipython3",
   "version": "3.10.2"
  },
  "orig_nbformat": 4
 },
 "nbformat": 4,
 "nbformat_minor": 2
}
